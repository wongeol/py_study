{
 "cells": [
  {
   "cell_type": "code",
   "execution_count": 2,
   "metadata": {},
   "outputs": [],
   "source": [
    "from sklearn.tree import DecisionTreeClassifier\n",
    "from sklearn.datasets import load_breast_cancer\n",
    "from sklearn.model_selection import train_test_split\n",
    "import numpy as np\n",
    "from sklearn.metrics import accuracy_score"
   ]
  },
  {
   "cell_type": "markdown",
   "metadata": {},
   "source": [
    "### Data Loader"
   ]
  },
  {
   "cell_type": "code",
   "execution_count": 6,
   "metadata": {},
   "outputs": [],
   "source": [
    "cancer = load_breast_cancer()"
   ]
  },
  {
   "cell_type": "markdown",
   "metadata": {},
   "source": [
    "### Data Shupple, Model Generator, Training"
   ]
  },
  {
   "cell_type": "code",
   "execution_count": 8,
   "metadata": {},
   "outputs": [
    {
     "data": {
      "text/plain": [
       "DecisionTreeClassifier(random_state=0)"
      ]
     },
     "execution_count": 8,
     "metadata": {},
     "output_type": "execute_result"
    }
   ],
   "source": [
    "X_train, X_test, y_train, y_test = train_test_split(cancer.data, cancer.target, random_state=42)\n",
    "model = DecisionTreeClassifier(random_state=0)\n",
    "model.fit(X_train, y_train)"
   ]
  },
  {
   "cell_type": "markdown",
   "metadata": {},
   "source": [
    "### 정확도"
   ]
  },
  {
   "cell_type": "code",
   "execution_count": 15,
   "metadata": {},
   "outputs": [
    {
     "name": "stdout",
     "output_type": "stream",
     "text": [
      "훈련세트 정확도 : 0.995305\n",
      "훈련세트 정확도 : 0.951049\n"
     ]
    }
   ],
   "source": [
    "# Overfitting,\n",
    "\n",
    "print('훈련세트 정확도 : {:3f}'.format(model.score(X_train, y_train)))\n",
    "print('훈련세트 정확도 : {:3f}'.format(model.score(X_test, y_test)))"
   ]
  },
  {
   "cell_type": "markdown",
   "metadata": {},
   "source": [
    "### 가지치기"
   ]
  },
  {
   "cell_type": "code",
   "execution_count": 16,
   "metadata": {},
   "outputs": [
    {
     "name": "stdout",
     "output_type": "stream",
     "text": [
      "훈련세트 정확도 : 0.995305\n",
      "훈련세트 정확도 : 0.951049\n"
     ]
    }
   ],
   "source": [
    "model = DecisionTreeClassifier(max_depth=4, random_state=0)\n",
    "model.fit(X_train, y_train)\n",
    "\n",
    "print('훈련세트 정확도 : {:3f}'.format(model.score(X_train, y_train)))\n",
    "print('훈련세트 정확도 : {:3f}'.format(model.score(X_test, y_test)))"
   ]
  },
  {
   "cell_type": "markdown",
   "metadata": {},
   "source": [
    "### 특성중요도"
   ]
  },
  {
   "cell_type": "code",
   "execution_count": 14,
   "metadata": {},
   "outputs": [
    {
     "name": "stdout",
     "output_type": "stream",
     "text": [
      "특성중요도:\n",
      "[0.         0.         0.         0.         0.         0.\n",
      " 0.         0.73943775 0.         0.         0.013032   0.\n",
      " 0.         0.         0.         0.         0.         0.01737208\n",
      " 0.00684355 0.         0.06019401 0.11783988 0.         0.03522339\n",
      " 0.01005736 0.         0.         0.         0.         0.        ]\n"
     ]
    }
   ],
   "source": [
    "print('특성중요도:\\n{}'.format(model.feature_importances_))"
   ]
  },
  {
   "cell_type": "code",
   "execution_count": 17,
   "metadata": {},
   "outputs": [],
   "source": [
    "import matplotlib.pyplot as plt\n",
    "import numpy as np"
   ]
  },
  {
   "cell_type": "code",
   "execution_count": 19,
   "metadata": {},
   "outputs": [
    {
     "data": {
      "image/png": "[encoded data removed]",
      "text/plain": [
       "<Figure size 432x288 with 1 Axes>"
      ]
     },
     "metadata": {
      "needs_background": "light"
     },
     "output_type": "display_data"
    }
   ],
   "source": [
    "def plot_feature_importances_cancer(model):\n",
    "    n_features = cancer.data.shape[1]\n",
    "    plt.barh(range(n_features), model.feature_importances_, align='center')\n",
    "    plt.yticks(np.arange(n_features),cancer.feature_names)\n",
    "    plt.xlabel('Feature Impotance')\n",
    "    plt.ylabel('Features')\n",
    "    plt.ylim(-1, n_features) # 그림의 범위를 수동으로 지정할때\n",
    "    \n",
    "plot_feature_importances_cancer(model)\n"
   ]
  },
  {
   "cell_type": "code",
   "execution_count": 20,
   "metadata": {
    "scrolled": true
   },
   "outputs": [
    {
     "data": {
      "image/svg+xml": [
       "<?xml version=\"1.0\" encoding=\"UTF-8\" standalone=\"no\"?>\r\n",
       "<!DOCTYPE svg PUBLIC \"-//W3C//DTD SVG 1.1//EN\"\r\n",
       " \"http://www.w3.org/Graphics/SVG/1.1/DTD/svg11.dtd\">\r\n",
       "<!-- Generated by graphviz version 2.38.0 (20140413.2041)\r\n",
       " -->\r\n",
       "<!-- Title: Tree Pages: 1 -->\r\n",
       "<svg width=\"1297pt\" height=\"477pt\"\r\n",
       " viewBox=\"0.00 0.00 1296.50 477.00\" xmlns=\"http://www.w3.org/2000/svg\" xmlns:xlink=\"http://www.w3.org/1999/xlink\">\r\n",
       "<g id=\"graph0\" class=\"graph\" transform=\"scale(1 1) rotate(0) translate(4 473)\">\r\n",
       "<title>Tree</title>\r\n",
       "<polygon fill=\"white\" stroke=\"none\" points=\"-4,4 -4,-473 1292.5,-473 1292.5,4 -4,4\"/>\r\n",
       "<!-- 0 -->\r\n",
       "<g id=\"node1\" class=\"node\"><title>0</title>\r\n",
       "<polygon fill=\"#aed7f4\" stroke=\"black\" points=\"823.5,-469 634.5,-469 634.5,-401 823.5,-401 823.5,-469\"/>\r\n",
       "<text text-anchor=\"middle\" x=\"729\" y=\"-453.8\" font-family=\"Times New Roman,serif\" font-size=\"14.00\">mean concave points &lt;= 0.051</text>\r\n",
       "<text text-anchor=\"middle\" x=\"729\" y=\"-438.8\" font-family=\"Times New Roman,serif\" font-size=\"14.00\">samples = 426</text>\r\n",
       "<text text-anchor=\"middle\" x=\"729\" y=\"-423.8\" font-family=\"Times New Roman,serif\" font-size=\"14.00\">value = [158, 268]</text>\r\n",
       "<text text-anchor=\"middle\" x=\"729\" y=\"-408.8\" font-family=\"Times New Roman,serif\" font-size=\"14.00\">class = benign</text>\r\n",
       "</g>\r\n",
       "<!-- 1 -->\r\n",
       "<g id=\"node2\" class=\"node\"><title>1</title>\r\n",
       "<polygon fill=\"#46a3e7\" stroke=\"black\" points=\"678,-365 538,-365 538,-297 678,-297 678,-365\"/>\r\n",
       "<text text-anchor=\"middle\" x=\"608\" y=\"-349.8\" font-family=\"Times New Roman,serif\" font-size=\"14.00\">worst radius &lt;= 16.83</text>\r\n",
       "<text text-anchor=\"middle\" x=\"608\" y=\"-334.8\" font-family=\"Times New Roman,serif\" font-size=\"14.00\">samples = 267</text>\r\n",
       "<text text-anchor=\"middle\" x=\"608\" y=\"-319.8\" font-family=\"Times New Roman,serif\" font-size=\"14.00\">value = [16, 251]</text>\r\n",
       "<text text-anchor=\"middle\" x=\"608\" y=\"-304.8\" font-family=\"Times New Roman,serif\" font-size=\"14.00\">class = benign</text>\r\n",
       "</g>\r\n",
       "<!-- 0&#45;&gt;1 -->\r\n",
       "<g id=\"edge1\" class=\"edge\"><title>0&#45;&gt;1</title>\r\n",
       "<path fill=\"none\" stroke=\"black\" d=\"M689.715,-400.884C678.726,-391.62 666.667,-381.455 655.268,-371.845\"/>\r\n",
       "<polygon fill=\"black\" stroke=\"black\" points=\"657.404,-369.069 647.502,-365.299 652.892,-374.421 657.404,-369.069\"/>\r\n",
       "<text text-anchor=\"middle\" x=\"649.625\" y=\"-386.509\" font-family=\"Times New Roman,serif\" font-size=\"14.00\">True</text>\r\n",
       "</g>\r\n",
       "<!-- 14 -->\r\n",
       "<g id=\"node15\" class=\"node\"><title>14</title>\r\n",
       "<polygon fill=\"#e89051\" stroke=\"black\" points=\"926.5,-365 775.5,-365 775.5,-297 926.5,-297 926.5,-365\"/>\r\n",
       "<text text-anchor=\"middle\" x=\"851\" y=\"-349.8\" font-family=\"Times New Roman,serif\" font-size=\"14.00\">worst texture &lt;= 20.405</text>\r\n",
       "<text text-anchor=\"middle\" x=\"851\" y=\"-334.8\" font-family=\"Times New Roman,serif\" font-size=\"14.00\">samples = 159</text>\r\n",
       "<text text-anchor=\"middle\" x=\"851\" y=\"-319.8\" font-family=\"Times New Roman,serif\" font-size=\"14.00\">value = [142, 17]</text>\r\n",
       "<text text-anchor=\"middle\" x=\"851\" y=\"-304.8\" font-family=\"Times New Roman,serif\" font-size=\"14.00\">class = malignant</text>\r\n",
       "</g>\r\n",
       "<!-- 0&#45;&gt;14 -->\r\n",
       "<g id=\"edge14\" class=\"edge\"><title>0&#45;&gt;14</title>\r\n",
       "<path fill=\"none\" stroke=\"black\" d=\"M768.61,-400.884C779.69,-391.62 791.848,-381.455 803.342,-371.845\"/>\r\n",
       "<polygon fill=\"black\" stroke=\"black\" points=\"805.744,-374.399 811.171,-365.299 801.254,-369.028 805.744,-374.399\"/>\r\n",
       "<text text-anchor=\"middle\" x=\"808.948\" y=\"-386.5\" font-family=\"Times New Roman,serif\" font-size=\"14.00\">False</text>\r\n",
       "</g>\r\n",
       "<!-- 2 -->\r\n",
       "<g id=\"node3\" class=\"node\"><title>2</title>\r\n",
       "<polygon fill=\"#3d9fe6\" stroke=\"black\" points=\"417,-261 281,-261 281,-193 417,-193 417,-261\"/>\r\n",
       "<text text-anchor=\"middle\" x=\"349\" y=\"-245.8\" font-family=\"Times New Roman,serif\" font-size=\"14.00\">radius error &lt;= 0.626</text>\r\n",
       "<text text-anchor=\"middle\" x=\"349\" y=\"-230.8\" font-family=\"Times New Roman,serif\" font-size=\"14.00\">samples = 249</text>\r\n",
       "<text text-anchor=\"middle\" x=\"349\" y=\"-215.8\" font-family=\"Times New Roman,serif\" font-size=\"14.00\">value = [5, 244]</text>\r\n",
       "<text text-anchor=\"middle\" x=\"349\" y=\"-200.8\" font-family=\"Times New Roman,serif\" font-size=\"14.00\">class = benign</text>\r\n",
       "</g>\r\n",
       "<!-- 1&#45;&gt;2 -->\r\n",
       "<g id=\"edge2\" class=\"edge\"><title>1&#45;&gt;2</title>\r\n",
       "<path fill=\"none\" stroke=\"black\" d=\"M537.911,-302.397C503.53,-288.857 462.017,-272.508 426.672,-258.589\"/>\r\n",
       "<polygon fill=\"black\" stroke=\"black\" points=\"427.941,-255.327 417.354,-254.919 425.375,-261.84 427.941,-255.327\"/>\r\n",
       "</g>\r\n",
       "<!-- 9 -->\r\n",
       "<g id=\"node10\" class=\"node\"><title>9</title>\r\n",
       "<polygon fill=\"#f6d1b7\" stroke=\"black\" points=\"680,-261 536,-261 536,-193 680,-193 680,-261\"/>\r\n",
       "<text text-anchor=\"middle\" x=\"608\" y=\"-245.8\" font-family=\"Times New Roman,serif\" font-size=\"14.00\">worst texture &lt;= 19.91</text>\r\n",
       "<text text-anchor=\"middle\" x=\"608\" y=\"-230.8\" font-family=\"Times New Roman,serif\" font-size=\"14.00\">samples = 18</text>\r\n",
       "<text text-anchor=\"middle\" x=\"608\" y=\"-215.8\" font-family=\"Times New Roman,serif\" font-size=\"14.00\">value = [11, 7]</text>\r\n",
       "<text text-anchor=\"middle\" x=\"608\" y=\"-200.8\" font-family=\"Times New Roman,serif\" font-size=\"14.00\">class = malignant</text>\r\n",
       "</g>\r\n",
       "<!-- 1&#45;&gt;9 -->\r\n",
       "<g id=\"edge9\" class=\"edge\"><title>1&#45;&gt;9</title>\r\n",
       "<path fill=\"none\" stroke=\"black\" d=\"M608,-296.884C608,-288.778 608,-279.982 608,-271.472\"/>\r\n",
       "<polygon fill=\"black\" stroke=\"black\" points=\"611.5,-271.299 608,-261.299 604.5,-271.299 611.5,-271.299\"/>\r\n",
       "</g>\r\n",
       "<!-- 3 -->\r\n",
       "<g id=\"node4\" class=\"node\"><title>3</title>\r\n",
       "<polygon fill=\"#3b9ee5\" stroke=\"black\" points=\"252.5,-157 79.5,-157 79.5,-89 252.5,-89 252.5,-157\"/>\r\n",
       "<text text-anchor=\"middle\" x=\"166\" y=\"-141.8\" font-family=\"Times New Roman,serif\" font-size=\"14.00\">worst smoothness &lt;= 0.178</text>\r\n",
       "<text text-anchor=\"middle\" x=\"166\" y=\"-126.8\" font-family=\"Times New Roman,serif\" font-size=\"14.00\">samples = 246</text>\r\n",
       "<text text-anchor=\"middle\" x=\"166\" y=\"-111.8\" font-family=\"Times New Roman,serif\" font-size=\"14.00\">value = [3, 243]</text>\r\n",
       "<text text-anchor=\"middle\" x=\"166\" y=\"-96.8\" font-family=\"Times New Roman,serif\" font-size=\"14.00\">class = benign</text>\r\n",
       "</g>\r\n",
       "<!-- 2&#45;&gt;3 -->\r\n",
       "<g id=\"edge3\" class=\"edge\"><title>2&#45;&gt;3</title>\r\n",
       "<path fill=\"none\" stroke=\"black\" d=\"M289.585,-192.884C271.916,-183.035 252.42,-172.169 234.237,-162.034\"/>\r\n",
       "<polygon fill=\"black\" stroke=\"black\" points=\"235.869,-158.936 225.43,-157.125 232.46,-165.051 235.869,-158.936\"/>\r\n",
       "</g>\r\n",
       "<!-- 6 -->\r\n",
       "<g id=\"node7\" class=\"node\"><title>6</title>\r\n",
       "<polygon fill=\"#f2c09c\" stroke=\"black\" points=\"427.5,-157 270.5,-157 270.5,-89 427.5,-89 427.5,-157\"/>\r\n",
       "<text text-anchor=\"middle\" x=\"349\" y=\"-141.8\" font-family=\"Times New Roman,serif\" font-size=\"14.00\">symmetry error &lt;= 0.025</text>\r\n",
       "<text text-anchor=\"middle\" x=\"349\" y=\"-126.8\" font-family=\"Times New Roman,serif\" font-size=\"14.00\">samples = 3</text>\r\n",
       "<text text-anchor=\"middle\" x=\"349\" y=\"-111.8\" font-family=\"Times New Roman,serif\" font-size=\"14.00\">value = [2, 1]</text>\r\n",
       "<text text-anchor=\"middle\" x=\"349\" y=\"-96.8\" font-family=\"Times New Roman,serif\" font-size=\"14.00\">class = malignant</text>\r\n",
       "</g>\r\n",
       "<!-- 2&#45;&gt;6 -->\r\n",
       "<g id=\"edge6\" class=\"edge\"><title>2&#45;&gt;6</title>\r\n",
       "<path fill=\"none\" stroke=\"black\" d=\"M349,-192.884C349,-184.778 349,-175.982 349,-167.472\"/>\r\n",
       "<polygon fill=\"black\" stroke=\"black\" points=\"352.5,-167.299 349,-157.299 345.5,-167.299 352.5,-167.299\"/>\r\n",
       "</g>\r\n",
       "<!-- 4 -->\r\n",
       "<g id=\"node5\" class=\"node\"><title>4</title>\r\n",
       "<polygon fill=\"#3b9ee5\" stroke=\"black\" points=\"104,-53 0,-53 0,-0 104,-0 104,-53\"/>\r\n",
       "<text text-anchor=\"middle\" x=\"52\" y=\"-37.8\" font-family=\"Times New Roman,serif\" font-size=\"14.00\">samples = 245</text>\r\n",
       "<text text-anchor=\"middle\" x=\"52\" y=\"-22.8\" font-family=\"Times New Roman,serif\" font-size=\"14.00\">value = [2, 243]</text>\r\n",
       "<text text-anchor=\"middle\" x=\"52\" y=\"-7.8\" font-family=\"Times New Roman,serif\" font-size=\"14.00\">class = benign</text>\r\n",
       "</g>\r\n",
       "<!-- 3&#45;&gt;4 -->\r\n",
       "<g id=\"edge4\" class=\"edge\"><title>3&#45;&gt;4</title>\r\n",
       "<path fill=\"none\" stroke=\"black\" d=\"M126.128,-88.9485C114.762,-79.526 102.393,-69.2731 91.0743,-59.8906\"/>\r\n",
       "<polygon fill=\"black\" stroke=\"black\" points=\"92.9799,-56.924 83.0475,-53.2367 88.5126,-62.3132 92.9799,-56.924\"/>\r\n",
       "</g>\r\n",
       "<!-- 5 -->\r\n",
       "<g id=\"node6\" class=\"node\"><title>5</title>\r\n",
       "<polygon fill=\"#e58139\" stroke=\"black\" points=\"235.5,-53 122.5,-53 122.5,-0 235.5,-0 235.5,-53\"/>\r\n",
       "<text text-anchor=\"middle\" x=\"179\" y=\"-37.8\" font-family=\"Times New Roman,serif\" font-size=\"14.00\">samples = 1</text>\r\n",
       "<text text-anchor=\"middle\" x=\"179\" y=\"-22.8\" font-family=\"Times New Roman,serif\" font-size=\"14.00\">value = [1, 0]</text>\r\n",
       "<text text-anchor=\"middle\" x=\"179\" y=\"-7.8\" font-family=\"Times New Roman,serif\" font-size=\"14.00\">class = malignant</text>\r\n",
       "</g>\r\n",
       "<!-- 3&#45;&gt;5 -->\r\n",
       "<g id=\"edge5\" class=\"edge\"><title>3&#45;&gt;5</title>\r\n",
       "<path fill=\"none\" stroke=\"black\" d=\"M170.547,-88.9485C171.692,-80.6238 172.926,-71.6509 174.089,-63.2027\"/>\r\n",
       "<polygon fill=\"black\" stroke=\"black\" points=\"177.564,-63.6204 175.46,-53.2367 170.629,-62.6664 177.564,-63.6204\"/>\r\n",
       "</g>\r\n",
       "<!-- 7 -->\r\n",
       "<g id=\"node8\" class=\"node\"><title>7</title>\r\n",
       "<polygon fill=\"#e58139\" stroke=\"black\" points=\"392.5,-53 279.5,-53 279.5,-0 392.5,-0 392.5,-53\"/>\r\n",
       "<text text-anchor=\"middle\" x=\"336\" y=\"-37.8\" font-family=\"Times New Roman,serif\" font-size=\"14.00\">samples = 2</text>\r\n",
       "<text text-anchor=\"middle\" x=\"336\" y=\"-22.8\" font-family=\"Times New Roman,serif\" font-size=\"14.00\">value = [2, 0]</text>\r\n",
       "<text text-anchor=\"middle\" x=\"336\" y=\"-7.8\" font-family=\"Times New Roman,serif\" font-size=\"14.00\">class = malignant</text>\r\n",
       "</g>\r\n",
       "<!-- 6&#45;&gt;7 -->\r\n",
       "<g id=\"edge7\" class=\"edge\"><title>6&#45;&gt;7</title>\r\n",
       "<path fill=\"none\" stroke=\"black\" d=\"M344.453,-88.9485C343.308,-80.6238 342.074,-71.6509 340.911,-63.2027\"/>\r\n",
       "<polygon fill=\"black\" stroke=\"black\" points=\"344.371,-62.6664 339.54,-53.2367 337.436,-63.6204 344.371,-62.6664\"/>\r\n",
       "</g>\r\n",
       "<!-- 8 -->\r\n",
       "<g id=\"node9\" class=\"node\"><title>8</title>\r\n",
       "<polygon fill=\"#399de5\" stroke=\"black\" points=\"507.5,-53 410.5,-53 410.5,-0 507.5,-0 507.5,-53\"/>\r\n",
       "<text text-anchor=\"middle\" x=\"459\" y=\"-37.8\" font-family=\"Times New Roman,serif\" font-size=\"14.00\">samples = 1</text>\r\n",
       "<text text-anchor=\"middle\" x=\"459\" y=\"-22.8\" font-family=\"Times New Roman,serif\" font-size=\"14.00\">value = [0, 1]</text>\r\n",
       "<text text-anchor=\"middle\" x=\"459\" y=\"-7.8\" font-family=\"Times New Roman,serif\" font-size=\"14.00\">class = benign</text>\r\n",
       "</g>\r\n",
       "<!-- 6&#45;&gt;8 -->\r\n",
       "<g id=\"edge8\" class=\"edge\"><title>6&#45;&gt;8</title>\r\n",
       "<path fill=\"none\" stroke=\"black\" d=\"M387.473,-88.9485C398.441,-79.526 410.375,-69.2731 421.297,-59.8906\"/>\r\n",
       "<polygon fill=\"black\" stroke=\"black\" points=\"423.737,-62.408 429.042,-53.2367 419.176,-57.0983 423.737,-62.408\"/>\r\n",
       "</g>\r\n",
       "<!-- 10 -->\r\n",
       "<g id=\"node11\" class=\"node\"><title>10</title>\r\n",
       "<polygon fill=\"#399de5\" stroke=\"black\" points=\"542.5,-149.5 445.5,-149.5 445.5,-96.5 542.5,-96.5 542.5,-149.5\"/>\r\n",
       "<text text-anchor=\"middle\" x=\"494\" y=\"-134.3\" font-family=\"Times New Roman,serif\" font-size=\"14.00\">samples = 5</text>\r\n",
       "<text text-anchor=\"middle\" x=\"494\" y=\"-119.3\" font-family=\"Times New Roman,serif\" font-size=\"14.00\">value = [0, 5]</text>\r\n",
       "<text text-anchor=\"middle\" x=\"494\" y=\"-104.3\" font-family=\"Times New Roman,serif\" font-size=\"14.00\">class = benign</text>\r\n",
       "</g>\r\n",
       "<!-- 9&#45;&gt;10 -->\r\n",
       "<g id=\"edge10\" class=\"edge\"><title>9&#45;&gt;10</title>\r\n",
       "<path fill=\"none\" stroke=\"black\" d=\"M570.987,-192.884C557.835,-181.116 543.058,-167.894 529.992,-156.203\"/>\r\n",
       "<polygon fill=\"black\" stroke=\"black\" points=\"532.309,-153.58 522.522,-149.52 527.641,-158.796 532.309,-153.58\"/>\r\n",
       "</g>\r\n",
       "<!-- 11 -->\r\n",
       "<g id=\"node12\" class=\"node\"><title>11</title>\r\n",
       "<polygon fill=\"#ea985d\" stroke=\"black\" points=\"741,-157 561,-157 561,-89 741,-89 741,-157\"/>\r\n",
       "<text text-anchor=\"middle\" x=\"651\" y=\"-141.8\" font-family=\"Times New Roman,serif\" font-size=\"14.00\">concave points error &lt;= 0.01</text>\r\n",
       "<text text-anchor=\"middle\" x=\"651\" y=\"-126.8\" font-family=\"Times New Roman,serif\" font-size=\"14.00\">samples = 13</text>\r\n",
       "<text text-anchor=\"middle\" x=\"651\" y=\"-111.8\" font-family=\"Times New Roman,serif\" font-size=\"14.00\">value = [11, 2]</text>\r\n",
       "<text text-anchor=\"middle\" x=\"651\" y=\"-96.8\" font-family=\"Times New Roman,serif\" font-size=\"14.00\">class = malignant</text>\r\n",
       "</g>\r\n",
       "<!-- 9&#45;&gt;11 -->\r\n",
       "<g id=\"edge11\" class=\"edge\"><title>9&#45;&gt;11</title>\r\n",
       "<path fill=\"none\" stroke=\"black\" d=\"M621.961,-192.884C625.491,-184.511 629.331,-175.401 633.028,-166.631\"/>\r\n",
       "<polygon fill=\"black\" stroke=\"black\" points=\"636.302,-167.874 636.962,-157.299 629.852,-165.154 636.302,-167.874\"/>\r\n",
       "</g>\r\n",
       "<!-- 12 -->\r\n",
       "<g id=\"node13\" class=\"node\"><title>12</title>\r\n",
       "<polygon fill=\"#e58139\" stroke=\"black\" points=\"679.5,-53 566.5,-53 566.5,-0 679.5,-0 679.5,-53\"/>\r\n",
       "<text text-anchor=\"middle\" x=\"623\" y=\"-37.8\" font-family=\"Times New Roman,serif\" font-size=\"14.00\">samples = 11</text>\r\n",
       "<text text-anchor=\"middle\" x=\"623\" y=\"-22.8\" font-family=\"Times New Roman,serif\" font-size=\"14.00\">value = [11, 0]</text>\r\n",
       "<text text-anchor=\"middle\" x=\"623\" y=\"-7.8\" font-family=\"Times New Roman,serif\" font-size=\"14.00\">class = malignant</text>\r\n",
       "</g>\r\n",
       "<!-- 11&#45;&gt;12 -->\r\n",
       "<g id=\"edge12\" class=\"edge\"><title>11&#45;&gt;12</title>\r\n",
       "<path fill=\"none\" stroke=\"black\" d=\"M641.207,-88.9485C638.713,-80.5323 636.023,-71.4536 633.496,-62.9243\"/>\r\n",
       "<polygon fill=\"black\" stroke=\"black\" points=\"636.822,-61.8304 630.626,-53.2367 630.111,-63.819 636.822,-61.8304\"/>\r\n",
       "</g>\r\n",
       "<!-- 13 -->\r\n",
       "<g id=\"node14\" class=\"node\"><title>13</title>\r\n",
       "<polygon fill=\"#399de5\" stroke=\"black\" points=\"794.5,-53 697.5,-53 697.5,-0 794.5,-0 794.5,-53\"/>\r\n",
       "<text text-anchor=\"middle\" x=\"746\" y=\"-37.8\" font-family=\"Times New Roman,serif\" font-size=\"14.00\">samples = 2</text>\r\n",
       "<text text-anchor=\"middle\" x=\"746\" y=\"-22.8\" font-family=\"Times New Roman,serif\" font-size=\"14.00\">value = [0, 2]</text>\r\n",
       "<text text-anchor=\"middle\" x=\"746\" y=\"-7.8\" font-family=\"Times New Roman,serif\" font-size=\"14.00\">class = benign</text>\r\n",
       "</g>\r\n",
       "<!-- 11&#45;&gt;13 -->\r\n",
       "<g id=\"edge13\" class=\"edge\"><title>11&#45;&gt;13</title>\r\n",
       "<path fill=\"none\" stroke=\"black\" d=\"M684.226,-88.9485C693.515,-79.709 703.606,-69.671 712.888,-60.4381\"/>\r\n",
       "<polygon fill=\"black\" stroke=\"black\" points=\"715.506,-62.7705 720.127,-53.2367 710.569,-57.8077 715.506,-62.7705\"/>\r\n",
       "</g>\r\n",
       "<!-- 15 -->\r\n",
       "<g id=\"node16\" class=\"node\"><title>15</title>\r\n",
       "<polygon fill=\"#88c4ef\" stroke=\"black\" points=\"945.5,-261 756.5,-261 756.5,-193 945.5,-193 945.5,-261\"/>\r\n",
       "<text text-anchor=\"middle\" x=\"851\" y=\"-245.8\" font-family=\"Times New Roman,serif\" font-size=\"14.00\">mean concave points &lt;= 0.091</text>\r\n",
       "<text text-anchor=\"middle\" x=\"851\" y=\"-230.8\" font-family=\"Times New Roman,serif\" font-size=\"14.00\">samples = 14</text>\r\n",
       "<text text-anchor=\"middle\" x=\"851\" y=\"-215.8\" font-family=\"Times New Roman,serif\" font-size=\"14.00\">value = [4, 10]</text>\r\n",
       "<text text-anchor=\"middle\" x=\"851\" y=\"-200.8\" font-family=\"Times New Roman,serif\" font-size=\"14.00\">class = benign</text>\r\n",
       "</g>\r\n",
       "<!-- 14&#45;&gt;15 -->\r\n",
       "<g id=\"edge15\" class=\"edge\"><title>14&#45;&gt;15</title>\r\n",
       "<path fill=\"none\" stroke=\"black\" d=\"M851,-296.884C851,-288.778 851,-279.982 851,-271.472\"/>\r\n",
       "<polygon fill=\"black\" stroke=\"black\" points=\"854.5,-271.299 851,-261.299 847.5,-271.299 854.5,-271.299\"/>\r\n",
       "</g>\r\n",
       "<!-- 18 -->\r\n",
       "<g id=\"node19\" class=\"node\"><title>18</title>\r\n",
       "<polygon fill=\"#e68743\" stroke=\"black\" points=\"1150,-261 1014,-261 1014,-193 1150,-193 1150,-261\"/>\r\n",
       "<text text-anchor=\"middle\" x=\"1082\" y=\"-245.8\" font-family=\"Times New Roman,serif\" font-size=\"14.00\">worst area &lt;= 718.65</text>\r\n",
       "<text text-anchor=\"middle\" x=\"1082\" y=\"-230.8\" font-family=\"Times New Roman,serif\" font-size=\"14.00\">samples = 145</text>\r\n",
       "<text text-anchor=\"middle\" x=\"1082\" y=\"-215.8\" font-family=\"Times New Roman,serif\" font-size=\"14.00\">value = [138, 7]</text>\r\n",
       "<text text-anchor=\"middle\" x=\"1082\" y=\"-200.8\" font-family=\"Times New Roman,serif\" font-size=\"14.00\">class = malignant</text>\r\n",
       "</g>\r\n",
       "<!-- 14&#45;&gt;18 -->\r\n",
       "<g id=\"edge18\" class=\"edge\"><title>14&#45;&gt;18</title>\r\n",
       "<path fill=\"none\" stroke=\"black\" d=\"M925.999,-296.884C951.108,-285.797 979.14,-273.419 1004.44,-262.247\"/>\r\n",
       "<polygon fill=\"black\" stroke=\"black\" points=\"1005.89,-265.432 1013.63,-258.19 1003.07,-259.028 1005.89,-265.432\"/>\r\n",
       "</g>\r\n",
       "<!-- 16 -->\r\n",
       "<g id=\"node17\" class=\"node\"><title>16</title>\r\n",
       "<polygon fill=\"#399de5\" stroke=\"black\" points=\"857,-149.5 759,-149.5 759,-96.5 857,-96.5 857,-149.5\"/>\r\n",
       "<text text-anchor=\"middle\" x=\"808\" y=\"-134.3\" font-family=\"Times New Roman,serif\" font-size=\"14.00\">samples = 10</text>\r\n",
       "<text text-anchor=\"middle\" x=\"808\" y=\"-119.3\" font-family=\"Times New Roman,serif\" font-size=\"14.00\">value = [0, 10]</text>\r\n",
       "<text text-anchor=\"middle\" x=\"808\" y=\"-104.3\" font-family=\"Times New Roman,serif\" font-size=\"14.00\">class = benign</text>\r\n",
       "</g>\r\n",
       "<!-- 15&#45;&gt;16 -->\r\n",
       "<g id=\"edge16\" class=\"edge\"><title>15&#45;&gt;16</title>\r\n",
       "<path fill=\"none\" stroke=\"black\" d=\"M837.039,-192.884C832.449,-181.996 827.334,-169.863 822.692,-158.85\"/>\r\n",
       "<polygon fill=\"black\" stroke=\"black\" points=\"825.868,-157.375 818.758,-149.52 819.418,-160.094 825.868,-157.375\"/>\r\n",
       "</g>\r\n",
       "<!-- 17 -->\r\n",
       "<g id=\"node18\" class=\"node\"><title>17</title>\r\n",
       "<polygon fill=\"#e58139\" stroke=\"black\" points=\"988.5,-149.5 875.5,-149.5 875.5,-96.5 988.5,-96.5 988.5,-149.5\"/>\r\n",
       "<text text-anchor=\"middle\" x=\"932\" y=\"-134.3\" font-family=\"Times New Roman,serif\" font-size=\"14.00\">samples = 4</text>\r\n",
       "<text text-anchor=\"middle\" x=\"932\" y=\"-119.3\" font-family=\"Times New Roman,serif\" font-size=\"14.00\">value = [4, 0]</text>\r\n",
       "<text text-anchor=\"middle\" x=\"932\" y=\"-104.3\" font-family=\"Times New Roman,serif\" font-size=\"14.00\">class = malignant</text>\r\n",
       "</g>\r\n",
       "<!-- 15&#45;&gt;17 -->\r\n",
       "<g id=\"edge17\" class=\"edge\"><title>15&#45;&gt;17</title>\r\n",
       "<path fill=\"none\" stroke=\"black\" d=\"M877.298,-192.884C886.294,-181.556 896.36,-168.88 905.381,-157.521\"/>\r\n",
       "<polygon fill=\"black\" stroke=\"black\" points=\"908.256,-159.528 911.734,-149.52 902.774,-155.174 908.256,-159.528\"/>\r\n",
       "</g>\r\n",
       "<!-- 19 -->\r\n",
       "<g id=\"node20\" class=\"node\"><title>19</title>\r\n",
       "<polygon fill=\"#e3f1fb\" stroke=\"black\" points=\"1157.5,-157 1006.5,-157 1006.5,-89 1157.5,-89 1157.5,-157\"/>\r\n",
       "<text text-anchor=\"middle\" x=\"1082\" y=\"-141.8\" font-family=\"Times New Roman,serif\" font-size=\"14.00\">worst texture &lt;= 25.925</text>\r\n",
       "<text text-anchor=\"middle\" x=\"1082\" y=\"-126.8\" font-family=\"Times New Roman,serif\" font-size=\"14.00\">samples = 13</text>\r\n",
       "<text text-anchor=\"middle\" x=\"1082\" y=\"-111.8\" font-family=\"Times New Roman,serif\" font-size=\"14.00\">value = [6, 7]</text>\r\n",
       "<text text-anchor=\"middle\" x=\"1082\" y=\"-96.8\" font-family=\"Times New Roman,serif\" font-size=\"14.00\">class = benign</text>\r\n",
       "</g>\r\n",
       "<!-- 18&#45;&gt;19 -->\r\n",
       "<g id=\"edge19\" class=\"edge\"><title>18&#45;&gt;19</title>\r\n",
       "<path fill=\"none\" stroke=\"black\" d=\"M1082,-192.884C1082,-184.778 1082,-175.982 1082,-167.472\"/>\r\n",
       "<polygon fill=\"black\" stroke=\"black\" points=\"1085.5,-167.299 1082,-157.299 1078.5,-167.299 1085.5,-167.299\"/>\r\n",
       "</g>\r\n",
       "<!-- 22 -->\r\n",
       "<g id=\"node23\" class=\"node\"><title>22</title>\r\n",
       "<polygon fill=\"#e58139\" stroke=\"black\" points=\"1288.5,-149.5 1175.5,-149.5 1175.5,-96.5 1288.5,-96.5 1288.5,-149.5\"/>\r\n",
       "<text text-anchor=\"middle\" x=\"1232\" y=\"-134.3\" font-family=\"Times New Roman,serif\" font-size=\"14.00\">samples = 132</text>\r\n",
       "<text text-anchor=\"middle\" x=\"1232\" y=\"-119.3\" font-family=\"Times New Roman,serif\" font-size=\"14.00\">value = [132, 0]</text>\r\n",
       "<text text-anchor=\"middle\" x=\"1232\" y=\"-104.3\" font-family=\"Times New Roman,serif\" font-size=\"14.00\">class = malignant</text>\r\n",
       "</g>\r\n",
       "<!-- 18&#45;&gt;22 -->\r\n",
       "<g id=\"edge22\" class=\"edge\"><title>18&#45;&gt;22</title>\r\n",
       "<path fill=\"none\" stroke=\"black\" d=\"M1130.7,-192.884C1148.49,-180.786 1168.54,-167.151 1186.08,-155.224\"/>\r\n",
       "<polygon fill=\"black\" stroke=\"black\" points=\"1188.17,-158.037 1194.47,-149.52 1184.23,-152.249 1188.17,-158.037\"/>\r\n",
       "</g>\r\n",
       "<!-- 20 -->\r\n",
       "<g id=\"node21\" class=\"node\"><title>20</title>\r\n",
       "<polygon fill=\"#399de5\" stroke=\"black\" points=\"1068.5,-53 971.5,-53 971.5,-0 1068.5,-0 1068.5,-53\"/>\r\n",
       "<text text-anchor=\"middle\" x=\"1020\" y=\"-37.8\" font-family=\"Times New Roman,serif\" font-size=\"14.00\">samples = 7</text>\r\n",
       "<text text-anchor=\"middle\" x=\"1020\" y=\"-22.8\" font-family=\"Times New Roman,serif\" font-size=\"14.00\">value = [0, 7]</text>\r\n",
       "<text text-anchor=\"middle\" x=\"1020\" y=\"-7.8\" font-family=\"Times New Roman,serif\" font-size=\"14.00\">class = benign</text>\r\n",
       "</g>\r\n",
       "<!-- 19&#45;&gt;20 -->\r\n",
       "<g id=\"edge20\" class=\"edge\"><title>19&#45;&gt;20</title>\r\n",
       "<path fill=\"none\" stroke=\"black\" d=\"M1060.32,-88.9485C1054.55,-80.1664 1048.32,-70.6629 1042.51,-61.815\"/>\r\n",
       "<polygon fill=\"black\" stroke=\"black\" points=\"1045.3,-59.6779 1036.89,-53.2367 1039.44,-63.5178 1045.3,-59.6779\"/>\r\n",
       "</g>\r\n",
       "<!-- 21 -->\r\n",
       "<g id=\"node22\" class=\"node\"><title>21</title>\r\n",
       "<polygon fill=\"#e58139\" stroke=\"black\" points=\"1199.5,-53 1086.5,-53 1086.5,-0 1199.5,-0 1199.5,-53\"/>\r\n",
       "<text text-anchor=\"middle\" x=\"1143\" y=\"-37.8\" font-family=\"Times New Roman,serif\" font-size=\"14.00\">samples = 6</text>\r\n",
       "<text text-anchor=\"middle\" x=\"1143\" y=\"-22.8\" font-family=\"Times New Roman,serif\" font-size=\"14.00\">value = [6, 0]</text>\r\n",
       "<text text-anchor=\"middle\" x=\"1143\" y=\"-7.8\" font-family=\"Times New Roman,serif\" font-size=\"14.00\">class = malignant</text>\r\n",
       "</g>\r\n",
       "<!-- 19&#45;&gt;21 -->\r\n",
       "<g id=\"edge21\" class=\"edge\"><title>19&#45;&gt;21</title>\r\n",
       "<path fill=\"none\" stroke=\"black\" d=\"M1103.33,-88.9485C1109,-80.1664 1115.14,-70.6629 1120.85,-61.815\"/>\r\n",
       "<polygon fill=\"black\" stroke=\"black\" points=\"1123.9,-63.5365 1126.39,-53.2367 1118.02,-59.7402 1123.9,-63.5365\"/>\r\n",
       "</g>\r\n",
       "</g>\r\n",
       "</svg>\r\n"
      ],
      "text/plain": [
       "<graphviz.files.Source at 0x255e2de9430>"
      ]
     },
     "metadata": {},
     "output_type": "display_data"
    },
    {
     "data": {
      "text/plain": [
       "'cancer_tree.png.pdf'"
      ]
     },
     "execution_count": 20,
     "metadata": {},
     "output_type": "execute_result"
    }
   ],
   "source": [
    "import graphviz\n",
    "from sklearn.tree import export_graphviz\n",
    "export_graphviz(model, out_file='cancer_tree.dot',\n",
    "                class_names=cancer.target_names,\n",
    "                feature_names=cancer.feature_names,\n",
    "                impurity=False,\n",
    "                filled = True) \n",
    "\n",
    "with open('cancer_tree.dot', encoding='utf-8') as f:\n",
    "    dot_graph = f.read()\n",
    "dot = graphviz.Source(dot_graph)\n",
    "display(dot)\n",
    "dot.render(filename='cancer_tree.png')"
   ]
  },
  {
   "cell_type": "code",
   "execution_count": null,
   "metadata": {},
   "outputs": [],
   "source": []
  }
 ],
 "metadata": {
  "kernelspec": {
   "display_name": "Python 3",
   "language": "python",
   "name": "python3"
  },
  "language_info": {
   "codemirror_mode": {
    "name": "ipython",
    "version": 3
   },
   "file_extension": ".py",
   "mimetype": "text/x-python",
   "name": "python",
   "nbconvert_exporter": "python",
   "pygments_lexer": "ipython3",
   "version": "3.9.0"
  }
 },
 "nbformat": 4,
 "nbformat_minor": 4
}
