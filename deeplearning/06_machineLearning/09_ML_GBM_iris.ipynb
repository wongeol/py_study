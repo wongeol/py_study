{
 "cells": [
  {
   "cell_type": "markdown",
   "metadata": {},
   "source": [
    "### GBM\n",
    "\n",
    "    Decision Tree ---> Ensemble\n",
    "    Ensemble\n",
    "        1) Bagging 알고리즘 --> Random Forest 머신\n",
    "        2) Boosting 알고리즘 --> GradientBoosting 머신\n",
    "        머신이 강력해질수록 사용해야 하는하이퍼파라미터 갯수들도 늘어난다.\n",
    "        하이퍼파라미터 값은 경험에 의한 인간이 직접 부여해줘야 한다.\n",
    "        성능에 막대한 영향을 미친다."
   ]
  },
  {
   "cell_type": "code",
   "execution_count": 2,
   "metadata": {},
   "outputs": [],
   "source": [
    "from sklearn.datasets import load_iris, load_breast_cancer\n",
    "from sklearn.ensemble import GradientBoostingClassifier\n",
    "from sklearn.model_selection import train_test_split\n",
    "import matplotlib.pyplot as plt\n",
    "import numpy as np"
   ]
  },
  {
   "cell_type": "code",
   "execution_count": 3,
   "metadata": {},
   "outputs": [],
   "source": [
    "cancer = load_breast_cancer()\n",
    "X_train, X_test, y_train, y_test = train_test_split(cancer.data, cancer.target)"
   ]
  },
  {
   "cell_type": "code",
   "execution_count": 12,
   "metadata": {},
   "outputs": [
    {
     "name": "stdout",
     "output_type": "stream",
     "text": [
      "1.0\n",
      "0.958041958041958\n"
     ]
    }
   ],
   "source": [
    "# gbm = GradientBoostingClassifier(random_state=0)\n",
    "# gbm = GradientBoostingClassifier(random_state=0, max_depth=3)\n",
    "gbm = GradientBoostingClassifier(random_state=0, learning_rate=0.1)\n",
    "\n",
    "gbm.fit(X_train, y_train)\n",
    "\n",
    "train_score = gbm.score(X_train, y_train)\n",
    "test_score = gbm.score(X_test, y_test)\n",
    "print(train_score)\n",
    "print(test_score) #97.2"
   ]
  },
  {
   "cell_type": "code",
   "execution_count": null,
   "metadata": {},
   "outputs": [],
   "source": []
  },
  {
   "cell_type": "code",
   "execution_count": null,
   "metadata": {},
   "outputs": [],
   "source": []
  },
  {
   "cell_type": "code",
   "execution_count": null,
   "metadata": {},
   "outputs": [],
   "source": []
  },
  {
   "cell_type": "code",
   "execution_count": null,
   "metadata": {},
   "outputs": [],
   "source": []
  }
 ],
 "metadata": {
  "kernelspec": {
   "display_name": "Python 3",
   "language": "python",
   "name": "python3"
  },
  "language_info": {
   "codemirror_mode": {
    "name": "ipython",
    "version": 3
   },
   "file_extension": ".py",
   "mimetype": "text/x-python",
   "name": "python",
   "nbconvert_exporter": "python",
   "pygments_lexer": "ipython3",
   "version": "3.9.0"
  }
 },
 "nbformat": 4,
 "nbformat_minor": 4
}
