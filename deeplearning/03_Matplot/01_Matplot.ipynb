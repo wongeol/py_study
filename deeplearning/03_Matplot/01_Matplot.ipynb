{
 "cells": [
  {
   "cell_type": "markdown",
   "metadata": {},
   "source": [
    "### Matplot Lib를 이용한 시각화"
   ]
  },
  {
   "cell_type": "code",
   "execution_count": 2,
   "metadata": {},
   "outputs": [],
   "source": [
    "'''\n",
    "1. matplot\n",
    "파이썬으로 데이타 분석한 결과를 시각화 하는데 matplotlib 라이브러리를 가장 많이 사용한다.\n",
    "\n",
    "matplotlib는 파이썬에서 2D형태의 그래프, 이미지 등을 그릴때 사용한 것으로 실제 과학컴퓨팅\n",
    "분야나 인공지능 연구분야에서도 많이 사용하는 랭귀지\n",
    "\n",
    "matplotlib 모듈은 다양한 모듈들이 있는데,\n",
    "그중에서 가장 많이 사용하는 서브모듈이 pyplot\n",
    "\n",
    "2. seaborn\n",
    "\n",
    "\n",
    "'''\n",
    "\n",
    "import matplotlib.pyplot as plt\n",
    "import seaborn as sns"
   ]
  },
  {
   "cell_type": "markdown",
   "metadata": {},
   "source": [
    "#### 1. 산점도 그래프 그리기"
   ]
  },
  {
   "cell_type": "code",
   "execution_count": null,
   "metadata": {},
   "outputs": [],
   "source": [
    "'''\n",
    "산점도는 scatter() 함수를 사용해서 시각화 한다.\n",
    "선점도는 x,y 축에 해당하는 데이타의 상관관계를 표시할때 사용하며\n",
    "점들이 흩어져 있는 분포를 확인할 수 있는 그래프\n",
    "2개의 축을 기준으로 데이타들이 얼마나 퍼져있는지의 여부(분포도, 산점도)를\n",
    "알 수 있다.\n",
    "'''"
   ]
  },
  {
   "cell_type": "code",
   "execution_count": 8,
   "metadata": {},
   "outputs": [
    {
     "data": {
      "image/png": "[encoded data removed]",
      "text/plain": [
       "<Figure size 432x288 with 2 Axes>"
      ]
     },
     "metadata": {
      "needs_background": "light"
     },
     "output_type": "display_data"
    }
   ],
   "source": [
    "# plt.scatter([1,2,3,4],[10,30,20,40], \n",
    "#             s=[100,200,350,500], c=['yellow', 'brown', 'pink', 'red'])\n",
    "\n",
    "plt.scatter([1,2,3,4],[10,30,20,40], \n",
    "             s=[100,200,350,500], c=range(4),cmap='jet')\n",
    "plt.colorbar()\n",
    "plt.show()"
   ]
  },
  {
   "cell_type": "code",
   "execution_count": 10,
   "metadata": {},
   "outputs": [
    {
     "data": {
      "text/plain": [
       "{'a': array([ 0,  1,  2,  3,  4,  5,  6,  7,  8,  9, 10, 11, 12, 13, 14, 15, 16,\n",
       "        17, 18, 19, 20, 21, 22, 23, 24, 25, 26, 27, 28, 29, 30, 31, 32, 33,\n",
       "        34, 35, 36, 37, 38, 39, 40, 41, 42, 43, 44, 45, 46, 47, 48, 49]),\n",
       " 'c': array([47, 22, 18, 19, 21, 15, 25, 10, 26, 11, 22, 17, 16, 35, 30, 47, 28,\n",
       "        30, 21, 38, 39, 24, 14, 33, 33, 40, 42, 32, 23, 19, 17, 32, 11, 10,\n",
       "        27, 18, 34, 23, 18, 40, 17, 13, 16, 31, 13, 14, 34, 22, 36, 26]),\n",
       " 'd': array([ 0.90085595, -0.68372786, -0.12289023, -0.93576943, -0.26788808,\n",
       "         0.53035547, -0.69166075, -0.39675353, -0.6871727 , -0.84520564,\n",
       "        -0.67124613, -0.0126646 , -1.11731035,  0.2344157 ,  1.65980218,\n",
       "         0.74204416, -0.19183555, -0.88762896, -0.74715829,  1.6924546 ,\n",
       "         0.05080775, -0.63699565,  0.19091548,  2.10025514,  0.12015895,\n",
       "         0.61720311,  0.30017032, -0.35224985, -1.1425182 , -0.34934272,\n",
       "        -0.20889423,  0.58662319,  0.83898341,  0.93110208,  0.28558733,\n",
       "         0.88514116, -0.75439794,  1.25286816,  0.51292982, -0.29809284,\n",
       "         0.48851815, -0.07557171,  1.13162939,  1.51981682,  2.18557541,\n",
       "        -1.39649634, -1.44411381, -0.50446586,  0.16003707,  0.87616892])}"
      ]
     },
     "execution_count": 10,
     "metadata": {},
     "output_type": "execute_result"
    }
   ],
   "source": [
    "# 1. 딕셔너리를 이용한 DataFrame 생성하기\n",
    "import numpy as np\n",
    "np.random.seed(1)\n",
    "data = {\n",
    "    'a':np.arange(50),\n",
    "    'c':np.random.randint(10, 50, 50),\n",
    "    'd':np.random.randn(50)\n",
    "}\n",
    "data"
   ]
  },
  {
   "cell_type": "code",
   "execution_count": 11,
   "metadata": {},
   "outputs": [
    {
     "data": {
      "text/plain": [
       "{'a': array([ 0,  1,  2,  3,  4,  5,  6,  7,  8,  9, 10, 11, 12, 13, 14, 15, 16,\n",
       "        17, 18, 19, 20, 21, 22, 23, 24, 25, 26, 27, 28, 29, 30, 31, 32, 33,\n",
       "        34, 35, 36, 37, 38, 39, 40, 41, 42, 43, 44, 45, 46, 47, 48, 49]),\n",
       " 'c': array([47, 22, 18, 19, 21, 15, 25, 10, 26, 11, 22, 17, 16, 35, 30, 47, 28,\n",
       "        30, 21, 38, 39, 24, 14, 33, 33, 40, 42, 32, 23, 19, 17, 32, 11, 10,\n",
       "        27, 18, 34, 23, 18, 40, 17, 13, 16, 31, 13, 14, 34, 22, 36, 26]),\n",
       " 'd': array([ 90.08559493,  68.37278592,  12.28902255,  93.57694343,\n",
       "         26.78880796,  53.03554667,  69.16607517,  39.67535269,\n",
       "         68.71727001,  84.52056415,  67.12461308,   1.26645989,\n",
       "        111.73103486,  23.44156978, 165.98021771,  74.20441606,\n",
       "         19.18355524,  88.76289641,  74.71582938, 169.2454601 ,\n",
       "          5.08077548,  63.69956466,  19.09154847, 210.02551365,\n",
       "         12.01589525,  61.72031097,  30.017032  ,  35.22498465,\n",
       "        114.2518198 ,  34.93427224,  20.88942334,  58.66231912,\n",
       "         83.89834139,  93.11020813,  28.55873253,  88.51411643,\n",
       "         75.4397941 , 125.28681552,  51.29298204,  29.80928351,\n",
       "         48.85181465,   7.5571713 , 113.16293875, 151.98168164,\n",
       "        218.55754065, 139.64963355, 144.41138054,  50.44658629,\n",
       "         16.00370694,  87.61689211]),\n",
       " 'b': array([   0.        ,  -20.22201216,   -6.12408025,   24.83923928,\n",
       "           9.20378941,   38.10055902,  -13.33968856,  -14.05306483,\n",
       "          14.92491128,   36.90464825,   19.82997201,   13.09095104,\n",
       "         -80.47947435,   49.08329222,   17.05497794,  169.42258619,\n",
       "         191.82686078,   31.47659097,  -67.55129102, -121.35877742,\n",
       "          84.69887081,   16.24141435,  -75.64780863,   10.02727707,\n",
       "        -148.80020255,  174.50800852, -116.25342684,  330.6170803 ,\n",
       "         112.9776597 ,  172.13777174, -328.47355372,   52.50855425,\n",
       "         236.97806435, -314.7211986 ,  -90.51429204,   11.41509134,\n",
       "        -494.32223529,  116.60897506,  321.54104608, -335.21121692,\n",
       "         140.21839147, -538.03619861,  -16.25211389, -694.78211252,\n",
       "         493.42379162,  184.00524207,  -11.3237997 , -364.32596101,\n",
       "         611.40284648,  963.87985713])}"
      ]
     },
     "execution_count": 11,
     "metadata": {},
     "output_type": "execute_result"
    }
   ],
   "source": [
    "data['b'] = data['a']*10*np.random.randn(50)\n",
    "data['d'] = np.abs(data['d']) * 100\n",
    "\n",
    "data"
   ]
  },
  {
   "cell_type": "code",
   "execution_count": 12,
   "metadata": {},
   "outputs": [
    {
     "data": {
      "text/html": [
       "<div>\n",
       "<style scoped>\n",
       "    .dataframe tbody tr th:only-of-type {\n",
       "        vertical-align: middle;\n",
       "    }\n",
       "\n",
       "    .dataframe tbody tr th {\n",
       "        vertical-align: top;\n",
       "    }\n",
       "\n",
       "    .dataframe thead th {\n",
       "        text-align: right;\n",
       "    }\n",
       "</style>\n",
       "<table border=\"1\" class=\"dataframe\">\n",
       "  <thead>\n",
       "    <tr style=\"text-align: right;\">\n",
       "      <th></th>\n",
       "      <th>a</th>\n",
       "      <th>c</th>\n",
       "      <th>d</th>\n",
       "      <th>b</th>\n",
       "    </tr>\n",
       "  </thead>\n",
       "  <tbody>\n",
       "    <tr>\n",
       "      <th>0</th>\n",
       "      <td>0</td>\n",
       "      <td>47</td>\n",
       "      <td>90.085595</td>\n",
       "      <td>0.000000</td>\n",
       "    </tr>\n",
       "    <tr>\n",
       "      <th>1</th>\n",
       "      <td>1</td>\n",
       "      <td>22</td>\n",
       "      <td>68.372786</td>\n",
       "      <td>-20.222012</td>\n",
       "    </tr>\n",
       "    <tr>\n",
       "      <th>2</th>\n",
       "      <td>2</td>\n",
       "      <td>18</td>\n",
       "      <td>12.289023</td>\n",
       "      <td>-6.124080</td>\n",
       "    </tr>\n",
       "    <tr>\n",
       "      <th>3</th>\n",
       "      <td>3</td>\n",
       "      <td>19</td>\n",
       "      <td>93.576943</td>\n",
       "      <td>24.839239</td>\n",
       "    </tr>\n",
       "    <tr>\n",
       "      <th>4</th>\n",
       "      <td>4</td>\n",
       "      <td>21</td>\n",
       "      <td>26.788808</td>\n",
       "      <td>9.203789</td>\n",
       "    </tr>\n",
       "    <tr>\n",
       "      <th>5</th>\n",
       "      <td>5</td>\n",
       "      <td>15</td>\n",
       "      <td>53.035547</td>\n",
       "      <td>38.100559</td>\n",
       "    </tr>\n",
       "    <tr>\n",
       "      <th>6</th>\n",
       "      <td>6</td>\n",
       "      <td>25</td>\n",
       "      <td>69.166075</td>\n",
       "      <td>-13.339689</td>\n",
       "    </tr>\n",
       "    <tr>\n",
       "      <th>7</th>\n",
       "      <td>7</td>\n",
       "      <td>10</td>\n",
       "      <td>39.675353</td>\n",
       "      <td>-14.053065</td>\n",
       "    </tr>\n",
       "    <tr>\n",
       "      <th>8</th>\n",
       "      <td>8</td>\n",
       "      <td>26</td>\n",
       "      <td>68.717270</td>\n",
       "      <td>14.924911</td>\n",
       "    </tr>\n",
       "    <tr>\n",
       "      <th>9</th>\n",
       "      <td>9</td>\n",
       "      <td>11</td>\n",
       "      <td>84.520564</td>\n",
       "      <td>36.904648</td>\n",
       "    </tr>\n",
       "    <tr>\n",
       "      <th>10</th>\n",
       "      <td>10</td>\n",
       "      <td>22</td>\n",
       "      <td>67.124613</td>\n",
       "      <td>19.829972</td>\n",
       "    </tr>\n",
       "    <tr>\n",
       "      <th>11</th>\n",
       "      <td>11</td>\n",
       "      <td>17</td>\n",
       "      <td>1.266460</td>\n",
       "      <td>13.090951</td>\n",
       "    </tr>\n",
       "    <tr>\n",
       "      <th>12</th>\n",
       "      <td>12</td>\n",
       "      <td>16</td>\n",
       "      <td>111.731035</td>\n",
       "      <td>-80.479474</td>\n",
       "    </tr>\n",
       "    <tr>\n",
       "      <th>13</th>\n",
       "      <td>13</td>\n",
       "      <td>35</td>\n",
       "      <td>23.441570</td>\n",
       "      <td>49.083292</td>\n",
       "    </tr>\n",
       "    <tr>\n",
       "      <th>14</th>\n",
       "      <td>14</td>\n",
       "      <td>30</td>\n",
       "      <td>165.980218</td>\n",
       "      <td>17.054978</td>\n",
       "    </tr>\n",
       "    <tr>\n",
       "      <th>15</th>\n",
       "      <td>15</td>\n",
       "      <td>47</td>\n",
       "      <td>74.204416</td>\n",
       "      <td>169.422586</td>\n",
       "    </tr>\n",
       "    <tr>\n",
       "      <th>16</th>\n",
       "      <td>16</td>\n",
       "      <td>28</td>\n",
       "      <td>19.183555</td>\n",
       "      <td>191.826861</td>\n",
       "    </tr>\n",
       "    <tr>\n",
       "      <th>17</th>\n",
       "      <td>17</td>\n",
       "      <td>30</td>\n",
       "      <td>88.762896</td>\n",
       "      <td>31.476591</td>\n",
       "    </tr>\n",
       "    <tr>\n",
       "      <th>18</th>\n",
       "      <td>18</td>\n",
       "      <td>21</td>\n",
       "      <td>74.715829</td>\n",
       "      <td>-67.551291</td>\n",
       "    </tr>\n",
       "    <tr>\n",
       "      <th>19</th>\n",
       "      <td>19</td>\n",
       "      <td>38</td>\n",
       "      <td>169.245460</td>\n",
       "      <td>-121.358777</td>\n",
       "    </tr>\n",
       "    <tr>\n",
       "      <th>20</th>\n",
       "      <td>20</td>\n",
       "      <td>39</td>\n",
       "      <td>5.080775</td>\n",
       "      <td>84.698871</td>\n",
       "    </tr>\n",
       "    <tr>\n",
       "      <th>21</th>\n",
       "      <td>21</td>\n",
       "      <td>24</td>\n",
       "      <td>63.699565</td>\n",
       "      <td>16.241414</td>\n",
       "    </tr>\n",
       "    <tr>\n",
       "      <th>22</th>\n",
       "      <td>22</td>\n",
       "      <td>14</td>\n",
       "      <td>19.091548</td>\n",
       "      <td>-75.647809</td>\n",
       "    </tr>\n",
       "    <tr>\n",
       "      <th>23</th>\n",
       "      <td>23</td>\n",
       "      <td>33</td>\n",
       "      <td>210.025514</td>\n",
       "      <td>10.027277</td>\n",
       "    </tr>\n",
       "    <tr>\n",
       "      <th>24</th>\n",
       "      <td>24</td>\n",
       "      <td>33</td>\n",
       "      <td>12.015895</td>\n",
       "      <td>-148.800203</td>\n",
       "    </tr>\n",
       "    <tr>\n",
       "      <th>25</th>\n",
       "      <td>25</td>\n",
       "      <td>40</td>\n",
       "      <td>61.720311</td>\n",
       "      <td>174.508009</td>\n",
       "    </tr>\n",
       "    <tr>\n",
       "      <th>26</th>\n",
       "      <td>26</td>\n",
       "      <td>42</td>\n",
       "      <td>30.017032</td>\n",
       "      <td>-116.253427</td>\n",
       "    </tr>\n",
       "    <tr>\n",
       "      <th>27</th>\n",
       "      <td>27</td>\n",
       "      <td>32</td>\n",
       "      <td>35.224985</td>\n",
       "      <td>330.617080</td>\n",
       "    </tr>\n",
       "    <tr>\n",
       "      <th>28</th>\n",
       "      <td>28</td>\n",
       "      <td>23</td>\n",
       "      <td>114.251820</td>\n",
       "      <td>112.977660</td>\n",
       "    </tr>\n",
       "    <tr>\n",
       "      <th>29</th>\n",
       "      <td>29</td>\n",
       "      <td>19</td>\n",
       "      <td>34.934272</td>\n",
       "      <td>172.137772</td>\n",
       "    </tr>\n",
       "    <tr>\n",
       "      <th>30</th>\n",
       "      <td>30</td>\n",
       "      <td>17</td>\n",
       "      <td>20.889423</td>\n",
       "      <td>-328.473554</td>\n",
       "    </tr>\n",
       "    <tr>\n",
       "      <th>31</th>\n",
       "      <td>31</td>\n",
       "      <td>32</td>\n",
       "      <td>58.662319</td>\n",
       "      <td>52.508554</td>\n",
       "    </tr>\n",
       "    <tr>\n",
       "      <th>32</th>\n",
       "      <td>32</td>\n",
       "      <td>11</td>\n",
       "      <td>83.898341</td>\n",
       "      <td>236.978064</td>\n",
       "    </tr>\n",
       "    <tr>\n",
       "      <th>33</th>\n",
       "      <td>33</td>\n",
       "      <td>10</td>\n",
       "      <td>93.110208</td>\n",
       "      <td>-314.721199</td>\n",
       "    </tr>\n",
       "    <tr>\n",
       "      <th>34</th>\n",
       "      <td>34</td>\n",
       "      <td>27</td>\n",
       "      <td>28.558733</td>\n",
       "      <td>-90.514292</td>\n",
       "    </tr>\n",
       "    <tr>\n",
       "      <th>35</th>\n",
       "      <td>35</td>\n",
       "      <td>18</td>\n",
       "      <td>88.514116</td>\n",
       "      <td>11.415091</td>\n",
       "    </tr>\n",
       "    <tr>\n",
       "      <th>36</th>\n",
       "      <td>36</td>\n",
       "      <td>34</td>\n",
       "      <td>75.439794</td>\n",
       "      <td>-494.322235</td>\n",
       "    </tr>\n",
       "    <tr>\n",
       "      <th>37</th>\n",
       "      <td>37</td>\n",
       "      <td>23</td>\n",
       "      <td>125.286816</td>\n",
       "      <td>116.608975</td>\n",
       "    </tr>\n",
       "    <tr>\n",
       "      <th>38</th>\n",
       "      <td>38</td>\n",
       "      <td>18</td>\n",
       "      <td>51.292982</td>\n",
       "      <td>321.541046</td>\n",
       "    </tr>\n",
       "    <tr>\n",
       "      <th>39</th>\n",
       "      <td>39</td>\n",
       "      <td>40</td>\n",
       "      <td>29.809284</td>\n",
       "      <td>-335.211217</td>\n",
       "    </tr>\n",
       "    <tr>\n",
       "      <th>40</th>\n",
       "      <td>40</td>\n",
       "      <td>17</td>\n",
       "      <td>48.851815</td>\n",
       "      <td>140.218391</td>\n",
       "    </tr>\n",
       "    <tr>\n",
       "      <th>41</th>\n",
       "      <td>41</td>\n",
       "      <td>13</td>\n",
       "      <td>7.557171</td>\n",
       "      <td>-538.036199</td>\n",
       "    </tr>\n",
       "    <tr>\n",
       "      <th>42</th>\n",
       "      <td>42</td>\n",
       "      <td>16</td>\n",
       "      <td>113.162939</td>\n",
       "      <td>-16.252114</td>\n",
       "    </tr>\n",
       "    <tr>\n",
       "      <th>43</th>\n",
       "      <td>43</td>\n",
       "      <td>31</td>\n",
       "      <td>151.981682</td>\n",
       "      <td>-694.782113</td>\n",
       "    </tr>\n",
       "    <tr>\n",
       "      <th>44</th>\n",
       "      <td>44</td>\n",
       "      <td>13</td>\n",
       "      <td>218.557541</td>\n",
       "      <td>493.423792</td>\n",
       "    </tr>\n",
       "    <tr>\n",
       "      <th>45</th>\n",
       "      <td>45</td>\n",
       "      <td>14</td>\n",
       "      <td>139.649634</td>\n",
       "      <td>184.005242</td>\n",
       "    </tr>\n",
       "    <tr>\n",
       "      <th>46</th>\n",
       "      <td>46</td>\n",
       "      <td>34</td>\n",
       "      <td>144.411381</td>\n",
       "      <td>-11.323800</td>\n",
       "    </tr>\n",
       "    <tr>\n",
       "      <th>47</th>\n",
       "      <td>47</td>\n",
       "      <td>22</td>\n",
       "      <td>50.446586</td>\n",
       "      <td>-364.325961</td>\n",
       "    </tr>\n",
       "    <tr>\n",
       "      <th>48</th>\n",
       "      <td>48</td>\n",
       "      <td>36</td>\n",
       "      <td>16.003707</td>\n",
       "      <td>611.402846</td>\n",
       "    </tr>\n",
       "    <tr>\n",
       "      <th>49</th>\n",
       "      <td>49</td>\n",
       "      <td>26</td>\n",
       "      <td>87.616892</td>\n",
       "      <td>963.879857</td>\n",
       "    </tr>\n",
       "  </tbody>\n",
       "</table>\n",
       "</div>"
      ],
      "text/plain": [
       "     a   c           d           b\n",
       "0    0  47   90.085595    0.000000\n",
       "1    1  22   68.372786  -20.222012\n",
       "2    2  18   12.289023   -6.124080\n",
       "3    3  19   93.576943   24.839239\n",
       "4    4  21   26.788808    9.203789\n",
       "5    5  15   53.035547   38.100559\n",
       "6    6  25   69.166075  -13.339689\n",
       "7    7  10   39.675353  -14.053065\n",
       "8    8  26   68.717270   14.924911\n",
       "9    9  11   84.520564   36.904648\n",
       "10  10  22   67.124613   19.829972\n",
       "11  11  17    1.266460   13.090951\n",
       "12  12  16  111.731035  -80.479474\n",
       "13  13  35   23.441570   49.083292\n",
       "14  14  30  165.980218   17.054978\n",
       "15  15  47   74.204416  169.422586\n",
       "16  16  28   19.183555  191.826861\n",
       "17  17  30   88.762896   31.476591\n",
       "18  18  21   74.715829  -67.551291\n",
       "19  19  38  169.245460 -121.358777\n",
       "20  20  39    5.080775   84.698871\n",
       "21  21  24   63.699565   16.241414\n",
       "22  22  14   19.091548  -75.647809\n",
       "23  23  33  210.025514   10.027277\n",
       "24  24  33   12.015895 -148.800203\n",
       "25  25  40   61.720311  174.508009\n",
       "26  26  42   30.017032 -116.253427\n",
       "27  27  32   35.224985  330.617080\n",
       "28  28  23  114.251820  112.977660\n",
       "29  29  19   34.934272  172.137772\n",
       "30  30  17   20.889423 -328.473554\n",
       "31  31  32   58.662319   52.508554\n",
       "32  32  11   83.898341  236.978064\n",
       "33  33  10   93.110208 -314.721199\n",
       "34  34  27   28.558733  -90.514292\n",
       "35  35  18   88.514116   11.415091\n",
       "36  36  34   75.439794 -494.322235\n",
       "37  37  23  125.286816  116.608975\n",
       "38  38  18   51.292982  321.541046\n",
       "39  39  40   29.809284 -335.211217\n",
       "40  40  17   48.851815  140.218391\n",
       "41  41  13    7.557171 -538.036199\n",
       "42  42  16  113.162939  -16.252114\n",
       "43  43  31  151.981682 -694.782113\n",
       "44  44  13  218.557541  493.423792\n",
       "45  45  14  139.649634  184.005242\n",
       "46  46  34  144.411381  -11.323800\n",
       "47  47  22   50.446586 -364.325961\n",
       "48  48  36   16.003707  611.402846\n",
       "49  49  26   87.616892  963.879857"
      ]
     },
     "execution_count": 12,
     "metadata": {},
     "output_type": "execute_result"
    }
   ],
   "source": [
    "# 위 data를 DataFrame으로 만든다\n",
    "# a,b,c,d는 컬럼으로\n",
    "# 0, 1, 2, 3, 4 .... 인덱스가 지정\n",
    "\n",
    "import pandas as pd\n",
    "from pandas import DataFrame\n",
    "\n",
    "DataFrame(data)"
   ]
  },
  {
   "cell_type": "code",
   "execution_count": 14,
   "metadata": {},
   "outputs": [
    {
     "data": {
      "image/png": "[encoded data removed]",
      "text/plain": [
       "<Figure size 432x288 with 1 Axes>"
      ]
     },
     "metadata": {
      "needs_background": "light"
     },
     "output_type": "display_data"
    }
   ],
   "source": [
    "# x에는 a에 대한 값, y에는 b에 대한 값\n",
    "plt.scatter('a', 'b', data=data)\n",
    "plt.show()"
   ]
  },
  {
   "cell_type": "code",
   "execution_count": 18,
   "metadata": {},
   "outputs": [
    {
     "data": {
      "image/png": "[encoded data removed]",
      "text/plain": [
       "<Figure size 432x288 with 1 Axes>"
      ]
     },
     "metadata": {
      "needs_background": "light"
     },
     "output_type": "display_data"
    }
   ],
   "source": [
    "plt.scatter('c','d', data=data, c='c', s='d', cmap='RdPu')\n",
    "plt.show()"
   ]
  },
  {
   "cell_type": "markdown",
   "metadata": {},
   "source": [
    "#### 2. Subplot 으로 plot(), scatter(), bar() 시각화를 동시에 이용하기"
   ]
  },
  {
   "cell_type": "code",
   "execution_count": null,
   "metadata": {},
   "outputs": [],
   "source": [
    "'''\n",
    "Subplot : 하나의 영역을 쪼개어서 여러개의 그래프를 동시에 보여주는 기능\n",
    "'''"
   ]
  },
  {
   "cell_type": "code",
   "execution_count": 19,
   "metadata": {},
   "outputs": [],
   "source": [
    "names = ['group_a', 'group_b', 'group_c'] #x값으로 사용\n",
    "values = [1, 10, 100] #y값으로 사용"
   ]
  },
  {
   "cell_type": "code",
   "execution_count": 21,
   "metadata": {
    "scrolled": true
   },
   "outputs": [
    {
     "data": {
      "image/png": "[encoded data removed]",
      "text/plain": [
       "<Figure size 648x216 with 3 Axes>"
      ]
     },
     "metadata": {
      "needs_background": "light"
     },
     "output_type": "display_data"
    }
   ],
   "source": [
    "plt.figure(1, figsize=(9,3))\n",
    "\n",
    "plt.subplot(131) #1:전체, 3:분할 수, 1:순서\n",
    "plt.bar(names, values)\n",
    "\n",
    "plt.subplot(132)\n",
    "plt.scatter(names, values)\n",
    "\n",
    "plt.subplot(133)\n",
    "plt.plot(names, values)\n",
    "\n",
    "plt.show()"
   ]
  },
  {
   "cell_type": "markdown",
   "metadata": {},
   "source": [
    "#### 3. 히스토그램 그리기"
   ]
  },
  {
   "cell_type": "code",
   "execution_count": null,
   "metadata": {},
   "outputs": [],
   "source": [
    "'''\n",
    "hist() 함수를 사용\n",
    "히스토그램은 자료의 분포상태를 직사각형의 막대그래프로 나타낸 것\n",
    "데이터의 빈도를 알아보는 것으로 \n",
    "빈도에 따라서 그래프의 높이가 결정됨\n",
    "\n",
    "scatter() 함수는 산포도\n",
    "hist()는 막대그래프의 파형을 가진다.\n",
    "'''"
   ]
  },
  {
   "cell_type": "code",
   "execution_count": 26,
   "metadata": {},
   "outputs": [
    {
     "data": {
      "image/png": "[encoded data removed]",
      "text/plain": [
       "<Figure size 432x288 with 1 Axes>"
      ]
     },
     "metadata": {
      "needs_background": "light"
     },
     "output_type": "display_data"
    }
   ],
   "source": [
    "plt.hist([1,1,2,3,4,5,6,6,7,8,10])\n",
    "plt.show()"
   ]
  },
  {
   "cell_type": "code",
   "execution_count": 37,
   "metadata": {},
   "outputs": [
    {
     "data": {
      "image/png": "[encoded data removed]",
      "text/plain": [
       "<Figure size 432x288 with 1 Axes>"
      ]
     },
     "metadata": {
      "needs_background": "light"
     },
     "output_type": "display_data"
    }
   ],
   "source": [
    "#histogram bins. 사용법\n",
    "\n",
    "'''\n",
    "bins : 해당 막대의 영역을 얼마나 채우는지 결정해주는 변수\n",
    "bins 갯수가 너무 적으면 분포가 뭉뜽그려지고\n",
    "bins 갯수가 너무 많으면 이빨빠진 빗처럼 조금 이상해진다.\n",
    "bins를 지정할 때 잘 해줘야 하고\n",
    "만약에 지정하지 않으면 기본값으로 알아서 설정\n",
    "\n",
    "'''\n",
    "dice = []\n",
    "for i in range(5):\n",
    "    dice.append(np.random.randint(1,7))\n",
    "    \n",
    "# print(dice)\n",
    "# plt.hist(dice)\n",
    "plt.hist(dice, bins=6)\n",
    "plt.show()"
   ]
  },
  {
   "cell_type": "code",
   "execution_count": 38,
   "metadata": {},
   "outputs": [
    {
     "data": {
      "image/png": "[encoded data removed]",
      "text/plain": [
       "<Figure size 432x288 with 1 Axes>"
      ]
     },
     "metadata": {
      "needs_background": "light"
     },
     "output_type": "display_data"
    }
   ],
   "source": [
    "#이번에는 주사위를 10만번 돌린 경우를 시뮬레이션 해보자\n",
    "'''\n",
    "큰수의 법칙\n",
    "던지는 횟수를 엄청 많이 한다면\n",
    "이럴때 특정한 숫자가 나올 확률이 전체의 1/6에 가까워 진다.\n",
    "\n",
    "\n",
    "'''\n",
    "\n",
    "for i in range(100000):\n",
    "    dice.append(np.random.randint(1,7))\n",
    "    \n",
    "plt.hist(dice)\n",
    "plt.show()"
   ]
  },
  {
   "cell_type": "markdown",
   "metadata": {},
   "source": [
    "#### 4. 그림문자 표현하기"
   ]
  },
  {
   "cell_type": "code",
   "execution_count": 39,
   "metadata": {},
   "outputs": [
    {
     "data": {
      "text/plain": [
       "(10000,)"
      ]
     },
     "execution_count": 39,
     "metadata": {},
     "output_type": "execute_result"
    }
   ],
   "source": [
    "mu, sigma = 100, 15\n",
    "\n",
    "x = mu + sigma * np.random.randn(10000)\n",
    "x.shape #갯수 확인"
   ]
  },
  {
   "cell_type": "code",
   "execution_count": 41,
   "metadata": {},
   "outputs": [
    {
     "data": {
      "image/png": "[encoded data removed]",
      "text/plain": [
       "<Figure size 432x288 with 1 Axes>"
      ]
     },
     "metadata": {
      "needs_background": "light"
     },
     "output_type": "display_data"
    }
   ],
   "source": [
    "#히스토그램으로 시각화\n",
    "plt.hist(x)\n",
    "plt.show()"
   ]
  },
  {
   "cell_type": "code",
   "execution_count": 42,
   "metadata": {},
   "outputs": [
    {
     "data": {
      "image/png": "[encoded data removed]",
      "text/plain": [
       "<Figure size 432x288 with 1 Axes>"
      ]
     },
     "metadata": {
      "needs_background": "light"
     },
     "output_type": "display_data"
    }
   ],
   "source": [
    "# x부분의 값을 좀 더 세밀하게 보고 싶다면?\n",
    "\n",
    "plt.hist(x, bins=50)\n",
    "plt.show()"
   ]
  },
  {
   "cell_type": "code",
   "execution_count": 50,
   "metadata": {},
   "outputs": [
    {
     "data": {
      "image/png": "[encoded data removed]",
      "text/plain": [
       "<Figure size 432x288 with 1 Axes>"
      ]
     },
     "metadata": {
      "needs_background": "light"
     },
     "output_type": "display_data"
    }
   ],
   "source": [
    "#density - 상대적인 빈도값으로 보고 싶을때 지정하는 속성\n",
    "#          1로 지정할 경우 백분율을 의미\n",
    "# alpha - 투명도 설정, 0~1 사이의 값 지정\n",
    "plt.hist(x, bins=50,\n",
    "        density=1,\n",
    "        facecolor='g',\n",
    "        alpha = 0.25)\n",
    "\n",
    "plt.xlabel('Smart')\n",
    "plt.ylabel('Probability')\n",
    "\n",
    "plt.title('Histogram of IQ')\n",
    "plt.grid() #눈금 그리기\n",
    "\n",
    "plt.text(60, 0.025, r'$mu=100, \\sigma=15$')\n",
    "\n",
    "#데이터가 없는 불필요한 그래프의 일부를 자를경우.\n",
    "plt.axis([50, 160, 0, 0.03])\n",
    "\n",
    "\n",
    "plt.show()"
   ]
  },
  {
   "cell_type": "code",
   "execution_count": null,
   "metadata": {},
   "outputs": [],
   "source": []
  }
 ],
 "metadata": {
  "kernelspec": {
   "display_name": "Python 3",
   "language": "python",
   "name": "python3"
  },
  "language_info": {
   "codemirror_mode": {
    "name": "ipython",
    "version": 3
   },
   "file_extension": ".py",
   "mimetype": "text/x-python",
   "name": "python",
   "nbconvert_exporter": "python",
   "pygments_lexer": "ipython3",
   "version": "3.9.0"
  }
 },
 "nbformat": 4,
 "nbformat_minor": 4
}
