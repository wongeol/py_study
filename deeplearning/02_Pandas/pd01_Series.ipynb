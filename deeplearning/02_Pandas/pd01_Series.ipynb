{
 "cells": [
  {
   "cell_type": "markdown",
   "metadata": {},
   "source": [
    "...\n",
    "Pandas는 Panel Datas의 줄임말로써 파이썬을 이영한 데이터 분석에서 가장 많이 사용되는\n",
    "라이브러리\n",
    "Numpy를 기반으로 만들어졌으며 데이터 분석을 위한 효율적인 데이터구조(메트릭스 구조)를 제공한다.\n",
    "\n",
    "Pandas의 자료구조\n",
    "1. Series - 1차원 배열형태 자료구조(벡터)\n",
    "            Series(ndarray, index)\n",
    "            index : optional, 지정을 안할 경우 정수타입의 리스트 삽입\n",
    "\n",
    "2. DataFrame - 2차원 배열형태 자료구조(메트릭스)\n",
    "               행을 구분하는 인덱스와 열을 구분하는 컬럼이 있다..\n",
    "               별도의 지정이 없으면 인덱스는 정수로 설정\n",
    "               한번 지정된 인덱스는 변경되지 않는다.\n",
    "\n",
    "3. Panel - (3차원)\n",
    "..."
   ]
  },
  {
   "cell_type": "markdown",
   "metadata": {},
   "source": [
    "### Series\n",
    "시리즈 생성, 구조 확인"
   ]
  },
  {
   "cell_type": "code",
   "execution_count": 3,
   "metadata": {},
   "outputs": [],
   "source": [
    "import numpy as np\n",
    "import pandas as pd\n",
    "from pandas import Series, DataFrame"
   ]
  },
  {
   "cell_type": "markdown",
   "metadata": {},
   "source": [
    "#### 1. 시리즈를 생성하고 구조확인"
   ]
  },
  {
   "cell_type": "code",
   "execution_count": 4,
   "metadata": {},
   "outputs": [],
   "source": [
    "ser1 = Series?"
   ]
  },
  {
   "cell_type": "code",
   "execution_count": 9,
   "metadata": {},
   "outputs": [
    {
     "name": "stdout",
     "output_type": "stream",
     "text": [
      "a    18\n",
      "b    18\n",
      "c    13\n",
      "d    17\n",
      "e    17\n",
      "dtype: int32\n",
      "Index(['a', 'b', 'c', 'd', 'e'], dtype='object')\n",
      "[18 18 13 17 17]\n",
      "int32\n"
     ]
    }
   ],
   "source": [
    "# 처음에는 index 속성없이 생성해보겠다. data는 배열형태\n",
    "# np배열 만드는 방법 1)array() 2)random\n",
    "# index를 명식적으로 지정하지 않으면 자동적으로 0 ~ N-1 까지의 정수로 지정된다.\n",
    "np.random.seed(100)\n",
    "# ser1 = Series(np.random.randint(10,20,5), index=['a', 'b', 'c', 'd', 'e'])\n",
    "ser1 = Series(np.random.randint(10,20,5), index=list('abcde'))\n",
    "print(ser1)\n",
    "print(ser1.index)\n",
    "print(ser1.values)\n",
    "print(ser1.dtype)"
   ]
  },
  {
   "cell_type": "markdown",
   "metadata": {},
   "source": [
    "#### 2. 시리즈 값 조회하기\n",
    "        인덱싱 | 슬라이싱\n",
    "단일값을 선택하거나 여러값을 선택할때 인덱스로 숫자나 라벨을 사용할 수 있다.\n",
    "#### 이때, 슬라이싱되는 방법이 달라진다.\n",
    "\n",
    "#### 1) 라벨사용 - 마지막 라벨 포함\n",
    "\n",
    "#### 2) 숫자 사용 - 마지막 숫자 포함 안함"
   ]
  },
  {
   "cell_type": "code",
   "execution_count": 17,
   "metadata": {},
   "outputs": [
    {
     "name": "stdout",
     "output_type": "stream",
     "text": [
      "13\n",
      "13\n",
      "b    18\n",
      "c    13\n",
      "d    17\n",
      "dtype: int32\n",
      "b    18\n",
      "c    13\n",
      "d    17\n",
      "dtype: int32\n"
     ]
    }
   ],
   "source": [
    "print(ser1['c']) # 인덱싱(라벨사용)\n",
    "print(ser1[2]) # 인덱싱(숫자사용)\n",
    "print(ser1[1:4])\n",
    "print(ser1['b':'d'])"
   ]
  },
  {
   "cell_type": "code",
   "execution_count": 21,
   "metadata": {},
   "outputs": [
    {
     "data": {
      "text/plain": [
       "a    18\n",
       "b    18\n",
       "dtype: int32"
      ]
     },
     "execution_count": 21,
     "metadata": {},
     "output_type": "execute_result"
    }
   ],
   "source": [
    "# 응용해서 조회하기\n",
    "ser1_1 = ser1[::2]\n",
    "ser1_1\n",
    "\n",
    "ser1_2 = ser1[:2]\n",
    "ser1_2"
   ]
  },
  {
   "cell_type": "markdown",
   "metadata": {},
   "source": [
    "#### 3. 시리즈 간의 연산과 누락데이터 처리하기"
   ]
  },
  {
   "cell_type": "code",
   "execution_count": 26,
   "metadata": {},
   "outputs": [
    {
     "name": "stdout",
     "output_type": "stream",
     "text": [
      "a    18\n",
      "c    13\n",
      "e    17\n",
      "dtype: int32\n",
      "a    18\n",
      "b    18\n",
      "c    13\n",
      "d    17\n",
      "e    17\n",
      "dtype: int32\n",
      "a    36.0\n",
      "b     NaN\n",
      "c    26.0\n",
      "d     NaN\n",
      "e    34.0\n",
      "dtype: float64\n"
     ]
    }
   ],
   "source": [
    "print(ser1_1)\n",
    "print(ser1)\n",
    "\n",
    "# 시리즈간의 연산\n",
    "result = ser1+ser1_1\n",
    "print(result) #b,d에 해당하는 값들은 NaN으로 채워짐 (NaN : 누락데이타, 결측값, dtype은 float64)\n",
    "\n"
   ]
  },
  {
   "cell_type": "markdown",
   "metadata": {},
   "source": [
    "#### 4. 누락데이타 조회 - isnull(), notnull()"
   ]
  },
  {
   "cell_type": "code",
   "execution_count": 28,
   "metadata": {},
   "outputs": [
    {
     "data": {
      "text/plain": [
       "a    36.0\n",
       "b     NaN\n",
       "c    26.0\n",
       "d     NaN\n",
       "e    34.0\n",
       "dtype: float64"
      ]
     },
     "execution_count": 28,
     "metadata": {},
     "output_type": "execute_result"
    }
   ],
   "source": [
    "result"
   ]
  },
  {
   "cell_type": "code",
   "execution_count": 33,
   "metadata": {},
   "outputs": [
    {
     "name": "stdout",
     "output_type": "stream",
     "text": [
      "a    False\n",
      "b     True\n",
      "c    False\n",
      "d     True\n",
      "e    False\n",
      "dtype: bool\n",
      "******************************\n",
      "a     True\n",
      "b    False\n",
      "c     True\n",
      "d    False\n",
      "e     True\n",
      "dtype: bool\n",
      "******************************\n",
      "2\n",
      "******************************\n",
      "b   NaN\n",
      "d   NaN\n",
      "dtype: float64\n",
      "******************************\n",
      "a    36.0\n",
      "c    26.0\n",
      "e    34.0\n",
      "dtype: float64\n"
     ]
    }
   ],
   "source": [
    "print(result.isnull())\n",
    "print('*'*30)\n",
    "print(result.notnull())\n",
    "print('*'*30)\n",
    "print(result.isnull().sum())\n",
    "print('*'*30)\n",
    "print(result[result.isnull()])\n",
    "print('*'*30)\n",
    "print(result[result.notnull()])"
   ]
  },
  {
   "cell_type": "markdown",
   "metadata": {},
   "source": [
    "#### 5. Matplot을 이용한 시각화"
   ]
  },
  {
   "cell_type": "code",
   "execution_count": 34,
   "metadata": {},
   "outputs": [],
   "source": [
    "import matplotlib.pyplot as plt"
   ]
  },
  {
   "cell_type": "code",
   "execution_count": 38,
   "metadata": {},
   "outputs": [
    {
     "data": {
      "image/png": "[encoded data removed]",
      "text/plain": [
       "<Figure size 432x288 with 1 Axes>"
      ]
     },
     "metadata": {
      "needs_background": "light"
     },
     "output_type": "display_data"
    }
   ],
   "source": [
    "# 누락데이터가 아닌 값들을 시각화해 본다\n",
    "result[result.notnull()].plot(kind='bar')\n",
    "# result[result.isnull()].plot(kind='bar') #\n",
    "plt.show()"
   ]
  },
  {
   "cell_type": "code",
   "execution_count": null,
   "metadata": {},
   "outputs": [],
   "source": []
  },
  {
   "cell_type": "code",
   "execution_count": null,
   "metadata": {},
   "outputs": [],
   "source": []
  }
 ],
 "metadata": {
  "kernelspec": {
   "display_name": "Python 3",
   "language": "python",
   "name": "python3"
  },
  "language_info": {
   "codemirror_mode": {
    "name": "ipython",
    "version": 3
   },
   "file_extension": ".py",
   "mimetype": "text/x-python",
   "name": "python",
   "nbconvert_exporter": "python",
   "pygments_lexer": "ipython3",
   "version": "3.9.0"
  }
 },
 "nbformat": 4,
 "nbformat_minor": 4
}
