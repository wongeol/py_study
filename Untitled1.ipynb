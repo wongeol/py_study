{
 "cells": [
  {
   "cell_type": "code",
   "execution_count": 2,
   "metadata": {},
   "outputs": [],
   "source": [
    "import requests"
   ]
  },
  {
   "cell_type": "code",
   "execution_count": 1,
   "metadata": {},
   "outputs": [],
   "source": [
    "from bs4 import BeautifulSoup"
   ]
  },
  {
   "cell_type": "code",
   "execution_count": 3,
   "metadata": {},
   "outputs": [
    {
     "ename": "NameError",
     "evalue": "name 'beautifulSoup' is not defined",
     "output_type": "error",
     "traceback": [
      "\u001b[1;31m---------------------------------------------------------------------------\u001b[0m",
      "\u001b[1;31mNameError\u001b[0m                                 Traceback (most recent call last)",
      "\u001b[1;32m<ipython-input-3-e245d0d39fe0>\u001b[0m in \u001b[0;36m<module>\u001b[1;34m\u001b[0m\n\u001b[1;32m----> 1\u001b[1;33m \u001b[0mcontant\u001b[0m \u001b[1;33m=\u001b[0m \u001b[0mbeautifulSoup\u001b[0m\u001b[1;33m(\u001b[0m\u001b[0mhtml\u001b[0m\u001b[1;33m,\u001b[0m \u001b[1;34m'html.parser'\u001b[0m\u001b[1;33m)\u001b[0m\u001b[1;33m\u001b[0m\u001b[1;33m\u001b[0m\u001b[0m\n\u001b[0m\u001b[0;32m      2\u001b[0m \u001b[0mtitle\u001b[0m \u001b[1;33m=\u001b[0m \u001b[0mcontent\u001b[0m\u001b[1;33m.\u001b[0m\u001b[0mhtml\u001b[0m\u001b[1;33m.\u001b[0m\u001b[0mhead\u001b[0m\u001b[1;33m.\u001b[0m\u001b[0mtilte\u001b[0m\u001b[1;33m\u001b[0m\u001b[1;33m\u001b[0m\u001b[0m\n\u001b[0;32m      3\u001b[0m \u001b[0mprint\u001b[0m\u001b[1;33m(\u001b[0m\u001b[0mtitile\u001b[0m\u001b[1;33m.\u001b[0m\u001b[0mstring\u001b[0m\u001b[1;33m)\u001b[0m\u001b[1;33m\u001b[0m\u001b[1;33m\u001b[0m\u001b[0m\n",
      "\u001b[1;31mNameError\u001b[0m: name 'beautifulSoup' is not defined"
     ]
    }
   ],
   "source": [
    "contant = beautifulSoup(html, 'html.parser')\n",
    "title = content.html.head.tilte\n",
    "print(titile.string)"
   ]
  },
  {
   "cell_type": "markdown",
   "metadata": {},
   "source": [
    "태그 접근 방법\n",
    "1. root.html.body.h1 : 태그 한개 검색\n",
    "2. root.find(태그[속성]) : 태그 1개 검색\n",
    "3. root.find_all(태그[속성]) : 태그 모두 검색\n",
    "4. root.select(태그) : 태그 모두 검색"
   ]
  },
  {
   "cell_type": "code",
   "execution_count": null,
   "metadata": {},
   "outputs": [],
   "source": [
    "# links = contents.html.body.a #처음 a 태그 하나만 추출\n",
    "links = content.find.all('a')\n",
    "for i in links;\n",
    "    print(i.get_text(), ':', i['href'])"
   ]
  },
  {
   "cell_type": "code",
   "execution_count": 8,
   "metadata": {},
   "outputs": [
    {
     "name": "stdout",
     "output_type": "stream",
     "text": [
      "aaa : 111\n",
      "bbb : 111\n",
      "ccc : 222\n"
     ]
    }
   ],
   "source": [
    "import json\n",
    "j = '[{\"id\":\"aaa\", \"pwd\":\"111\"}, {\"id\":\"bbb\", \"pwd\":\"111\"},{\"id\":\"ccc\", \"pwd\":\"222\"}]'\n",
    "\n",
    "items = json.loads(j)\n",
    "\n",
    "for item in items :\n",
    "    print(item['id'], ':', item['pwd'])"
   ]
  },
  {
   "cell_type": "code",
   "execution_count": 12,
   "metadata": {},
   "outputs": [
    {
     "name": "stdout",
     "output_type": "stream",
     "text": [
      "id: 1 / name: grit / login: mojombo\n",
      "id: 26 / name: merb-core / login: wycats\n",
      "id: 27 / name: rubinius / login: rubinius\n",
      "id: 28 / name: god / login: mojombo\n",
      "id: 29 / name: jsawesome / login: vanpelt\n",
      "id: 31 / name: jspec / login: wycats\n",
      "id: 35 / name: exception_logger / login: defunkt\n",
      "id: 36 / name: ambition / login: defunkt\n",
      "id: 42 / name: restful-authentication / login: technoweenie\n",
      "id: 43 / name: attachment_fu / login: technoweenie\n",
      "id: 48 / name: microsis / login: caged\n",
      "id: 52 / name: s3 / login: anotherjesse\n",
      "id: 53 / name: taboo / login: anotherjesse\n",
      "id: 54 / name: foxtracs / login: anotherjesse\n",
      "id: 56 / name: fotomatic / login: anotherjesse\n",
      "id: 61 / name: glowstick / login: mojombo\n",
      "id: 63 / name: starling / login: defunkt\n",
      "id: 65 / name: merb-more / login: wycats\n",
      "id: 68 / name: thin / login: macournoyer\n",
      "id: 71 / name: resource_controller / login: jamesgolick\n",
      "id: 73 / name: markaby / login: jamesgolick\n",
      "id: 74 / name: enum_field / login: jamesgolick\n",
      "id: 75 / name: subtlety / login: defunkt\n",
      "id: 92 / name: zippy / login: defunkt\n",
      "id: 93 / name: cache_fu / login: defunkt\n",
      "id: 95 / name: phosphor / login: KirinDave\n",
      "id: 98 / name: sinatra / login: bmizerany\n",
      "id: 102 / name: gsa-prototype / login: jnewland\n",
      "id: 105 / name: duplikate / login: technoweenie\n",
      "id: 118 / name: lazy_record / login: jnewland\n",
      "id: 119 / name: gsa-feeds / login: jnewland\n",
      "id: 120 / name: votigoto / login: jnewland\n",
      "id: 127 / name: mofo / login: defunkt\n",
      "id: 129 / name: xhtmlize / login: jnewland\n",
      "id: 130 / name: ruby-git / login: ruby-git\n",
      "id: 131 / name: bmhsearch / login: ezmobius\n",
      "id: 137 / name: mofo / login: uggedal\n",
      "id: 139 / name: simply_versioned / login: mmower\n",
      "id: 140 / name: gchart / login: abhay\n",
      "id: 141 / name: schemr / login: benburkert\n",
      "id: 142 / name: calais / login: abhay\n",
      "id: 144 / name: chronic / login: mojombo\n",
      "id: 165 / name: git-wiki / login: sr\n",
      "id: 177 / name: signal-wiki / login: queso\n",
      "id: 179 / name: ruby-on-rails-tmbundle / login: drnic\n",
      "id: 185 / name: low-pro-for-jquery / login: danwrong\n",
      "id: 186 / name: merb-core / login: wayneeseguin\n",
      "id: 190 / name: dst / login: sr\n",
      "id: 191 / name: yaws / login: mojombo\n",
      "id: 192 / name: yaws / login: KirinDave\n",
      "id: 193 / name: tasks / login: sr\n",
      "id: 195 / name: ruby-on-rails-tmbundle / login: mattetti\n",
      "id: 199 / name: amazon-ec2 / login: grempe\n",
      "id: 203 / name: merblogger / login: wayneeseguin\n",
      "id: 204 / name: merbtastic / login: wayneeseguin\n",
      "id: 205 / name: alogr / login: wayneeseguin\n",
      "id: 206 / name: autozest / login: wayneeseguin\n",
      "id: 207 / name: rnginx / login: wayneeseguin\n",
      "id: 208 / name: sequel / login: wayneeseguin\n",
      "id: 211 / name: simply_versioned / login: bmizerany\n",
      "id: 212 / name: switchpipe / login: peterc\n",
      "id: 213 / name: arc / login: hornbeck\n",
      "id: 217 / name: ebay4r / login: up_the_irons\n",
      "id: 218 / name: merb-plugins / login: wycats\n",
      "id: 220 / name: ram / login: up_the_irons\n",
      "id: 230 / name: ambitious_activeldap / login: defunkt\n",
      "id: 232 / name: fitter_happier / login: atmos\n",
      "id: 237 / name: oebfare / login: brosner\n",
      "id: 245 / name: credit_card_tools / login: up_the_irons\n",
      "id: 248 / name: rorem / login: jnicklas\n",
      "id: 249 / name: braid / login: cristibalan\n",
      "id: 251 / name: uploadcolumn / login: jnicklas\n",
      "id: 252 / name: ruby-on-rails-tmbundle / login: simonjefford\n",
      "id: 256 / name: rack-mirror / login: leahneukirchen\n",
      "id: 257 / name: coset-mirror / login: leahneukirchen\n",
      "id: 267 / name: javascript-unittest-tmbundle / login: drnic\n",
      "id: 273 / name: eycap / login: engineyard\n",
      "id: 279 / name: gitsum / login: leahneukirchen\n",
      "id: 293 / name: sequel-model / login: wayneeseguin\n",
      "id: 305 / name: god / login: kevinclark\n",
      "id: 307 / name: blerb-core / login: hornbeck\n",
      "id: 312 / name: django-mptt / login: brosner\n",
      "id: 314 / name: bus-scheme / login: technomancy\n",
      "id: 319 / name: javascript-bits / login: caged\n",
      "id: 320 / name: groomlake / login: caged\n",
      "id: 322 / name: forgery / login: sevenwire\n",
      "id: 324 / name: ambitious-sphinx / login: technicalpickles\n",
      "id: 329 / name: soup / login: lazyatom\n",
      "id: 332 / name: rails / login: josh\n",
      "id: 334 / name: backpacking / login: cdcarter\n",
      "id: 339 / name: capsize / login: jnewland\n",
      "id: 351 / name: starling / login: bs\n",
      "id: 360 / name: ape / login: sr\n",
      "id: 362 / name: awesomeness / login: collectiveidea\n",
      "id: 363 / name: audited / login: collectiveidea\n",
      "id: 364 / name: acts_as_geocodable / login: collectiveidea\n",
      "id: 365 / name: acts_as_money / login: collectiveidea\n",
      "id: 367 / name: calendar_builder / login: collectiveidea\n",
      "id: 368 / name: clear_empty_attributes / login: collectiveidea\n",
      "id: 369 / name: css_naked_day / login: collectiveidea\n"
     ]
    }
   ],
   "source": [
    "html = requests.get('https://api.github.com/repositories').text\n",
    "items = json.loads(html)\n",
    "for item in items:\n",
    "    print('id:', item['id'], '/', 'name:', item['name'], '/', 'login:', item['owner']['login'] )"
   ]
  },
  {
   "cell_type": "code",
   "execution_count": 23,
   "metadata": {},
   "outputs": [],
   "source": [
    "import pandas as pd\n",
    "import lxml\n",
    "def get_code(name) :\n",
    "    a = pd.read_html('http://kind.krx.co.kr/corpgeneral/corpList.do?method=download')[0]\n",
    "    code = a.loc[name, '종목코드']\n",
    "    return code"
   ]
  },
  {
   "cell_type": "code",
   "execution_count": 24,
   "metadata": {},
   "outputs": [
    {
     "ename": "ImportError",
     "evalue": "lxml not found, please install it",
     "output_type": "error",
     "traceback": [
      "\u001b[1;31m---------------------------------------------------------------------------\u001b[0m",
      "\u001b[1;31mImportError\u001b[0m                               Traceback (most recent call last)",
      "\u001b[1;32m<ipython-input-24-fd9942c6ce26>\u001b[0m in \u001b[0;36m<module>\u001b[1;34m\u001b[0m\n\u001b[1;32m----> 1\u001b[1;33m \u001b[0mcode\u001b[0m \u001b[1;33m=\u001b[0m \u001b[0mget_code\u001b[0m\u001b[1;33m(\u001b[0m\u001b[1;34m'JS전선'\u001b[0m\u001b[1;33m)\u001b[0m\u001b[1;33m\u001b[0m\u001b[1;33m\u001b[0m\u001b[0m\n\u001b[0m\u001b[0;32m      2\u001b[0m \u001b[0mcode\u001b[0m\u001b[1;33m\u001b[0m\u001b[1;33m\u001b[0m\u001b[0m\n",
      "\u001b[1;32m<ipython-input-23-dc6c891a1997>\u001b[0m in \u001b[0;36mget_code\u001b[1;34m(name)\u001b[0m\n\u001b[0;32m      2\u001b[0m \u001b[1;32mimport\u001b[0m \u001b[0mlxml\u001b[0m\u001b[1;33m\u001b[0m\u001b[1;33m\u001b[0m\u001b[0m\n\u001b[0;32m      3\u001b[0m \u001b[1;32mdef\u001b[0m \u001b[0mget_code\u001b[0m\u001b[1;33m(\u001b[0m\u001b[0mname\u001b[0m\u001b[1;33m)\u001b[0m \u001b[1;33m:\u001b[0m\u001b[1;33m\u001b[0m\u001b[1;33m\u001b[0m\u001b[0m\n\u001b[1;32m----> 4\u001b[1;33m     \u001b[0ma\u001b[0m \u001b[1;33m=\u001b[0m \u001b[0mpd\u001b[0m\u001b[1;33m.\u001b[0m\u001b[0mread_html\u001b[0m\u001b[1;33m(\u001b[0m\u001b[1;34m'http://kind.krx.co.kr/corpgeneral/corpList.do?method=download'\u001b[0m\u001b[1;33m)\u001b[0m\u001b[1;33m[\u001b[0m\u001b[1;36m0\u001b[0m\u001b[1;33m]\u001b[0m\u001b[1;33m\u001b[0m\u001b[1;33m\u001b[0m\u001b[0m\n\u001b[0m\u001b[0;32m      5\u001b[0m     \u001b[0mcode\u001b[0m \u001b[1;33m=\u001b[0m \u001b[0ma\u001b[0m\u001b[1;33m.\u001b[0m\u001b[0mloc\u001b[0m\u001b[1;33m[\u001b[0m\u001b[0mname\u001b[0m\u001b[1;33m,\u001b[0m \u001b[1;34m'종목코드'\u001b[0m\u001b[1;33m]\u001b[0m\u001b[1;33m\u001b[0m\u001b[1;33m\u001b[0m\u001b[0m\n\u001b[0;32m      6\u001b[0m     \u001b[1;32mreturn\u001b[0m \u001b[0mcode\u001b[0m\u001b[1;33m\u001b[0m\u001b[1;33m\u001b[0m\u001b[0m\n",
      "\u001b[1;32mc:\\users\\limwg\\appdata\\local\\programs\\python\\python39\\lib\\site-packages\\pandas\\util\\_decorators.py\u001b[0m in \u001b[0;36mwrapper\u001b[1;34m(*args, **kwargs)\u001b[0m\n\u001b[0;32m    294\u001b[0m                 )\n\u001b[0;32m    295\u001b[0m                 \u001b[0mwarnings\u001b[0m\u001b[1;33m.\u001b[0m\u001b[0mwarn\u001b[0m\u001b[1;33m(\u001b[0m\u001b[0mmsg\u001b[0m\u001b[1;33m,\u001b[0m \u001b[0mFutureWarning\u001b[0m\u001b[1;33m,\u001b[0m \u001b[0mstacklevel\u001b[0m\u001b[1;33m=\u001b[0m\u001b[0mstacklevel\u001b[0m\u001b[1;33m)\u001b[0m\u001b[1;33m\u001b[0m\u001b[1;33m\u001b[0m\u001b[0m\n\u001b[1;32m--> 296\u001b[1;33m             \u001b[1;32mreturn\u001b[0m \u001b[0mfunc\u001b[0m\u001b[1;33m(\u001b[0m\u001b[1;33m*\u001b[0m\u001b[0margs\u001b[0m\u001b[1;33m,\u001b[0m \u001b[1;33m**\u001b[0m\u001b[0mkwargs\u001b[0m\u001b[1;33m)\u001b[0m\u001b[1;33m\u001b[0m\u001b[1;33m\u001b[0m\u001b[0m\n\u001b[0m\u001b[0;32m    297\u001b[0m \u001b[1;33m\u001b[0m\u001b[0m\n\u001b[0;32m    298\u001b[0m         \u001b[1;32mreturn\u001b[0m \u001b[0mwrapper\u001b[0m\u001b[1;33m\u001b[0m\u001b[1;33m\u001b[0m\u001b[0m\n",
      "\u001b[1;32mc:\\users\\limwg\\appdata\\local\\programs\\python\\python39\\lib\\site-packages\\pandas\\io\\html.py\u001b[0m in \u001b[0;36mread_html\u001b[1;34m(io, match, flavor, header, index_col, skiprows, attrs, parse_dates, thousands, encoding, decimal, converters, na_values, keep_default_na, displayed_only)\u001b[0m\n\u001b[0;32m   1084\u001b[0m         )\n\u001b[0;32m   1085\u001b[0m     \u001b[0mvalidate_header_arg\u001b[0m\u001b[1;33m(\u001b[0m\u001b[0mheader\u001b[0m\u001b[1;33m)\u001b[0m\u001b[1;33m\u001b[0m\u001b[1;33m\u001b[0m\u001b[0m\n\u001b[1;32m-> 1086\u001b[1;33m     return _parse(\n\u001b[0m\u001b[0;32m   1087\u001b[0m         \u001b[0mflavor\u001b[0m\u001b[1;33m=\u001b[0m\u001b[0mflavor\u001b[0m\u001b[1;33m,\u001b[0m\u001b[1;33m\u001b[0m\u001b[1;33m\u001b[0m\u001b[0m\n\u001b[0;32m   1088\u001b[0m         \u001b[0mio\u001b[0m\u001b[1;33m=\u001b[0m\u001b[0mio\u001b[0m\u001b[1;33m,\u001b[0m\u001b[1;33m\u001b[0m\u001b[1;33m\u001b[0m\u001b[0m\n",
      "\u001b[1;32mc:\\users\\limwg\\appdata\\local\\programs\\python\\python39\\lib\\site-packages\\pandas\\io\\html.py\u001b[0m in \u001b[0;36m_parse\u001b[1;34m(flavor, io, match, attrs, encoding, displayed_only, **kwargs)\u001b[0m\n\u001b[0;32m    892\u001b[0m     \u001b[0mretained\u001b[0m \u001b[1;33m=\u001b[0m \u001b[1;32mNone\u001b[0m\u001b[1;33m\u001b[0m\u001b[1;33m\u001b[0m\u001b[0m\n\u001b[0;32m    893\u001b[0m     \u001b[1;32mfor\u001b[0m \u001b[0mflav\u001b[0m \u001b[1;32min\u001b[0m \u001b[0mflavor\u001b[0m\u001b[1;33m:\u001b[0m\u001b[1;33m\u001b[0m\u001b[1;33m\u001b[0m\u001b[0m\n\u001b[1;32m--> 894\u001b[1;33m         \u001b[0mparser\u001b[0m \u001b[1;33m=\u001b[0m \u001b[0m_parser_dispatch\u001b[0m\u001b[1;33m(\u001b[0m\u001b[0mflav\u001b[0m\u001b[1;33m)\u001b[0m\u001b[1;33m\u001b[0m\u001b[1;33m\u001b[0m\u001b[0m\n\u001b[0m\u001b[0;32m    895\u001b[0m         \u001b[0mp\u001b[0m \u001b[1;33m=\u001b[0m \u001b[0mparser\u001b[0m\u001b[1;33m(\u001b[0m\u001b[0mio\u001b[0m\u001b[1;33m,\u001b[0m \u001b[0mcompiled_match\u001b[0m\u001b[1;33m,\u001b[0m \u001b[0mattrs\u001b[0m\u001b[1;33m,\u001b[0m \u001b[0mencoding\u001b[0m\u001b[1;33m,\u001b[0m \u001b[0mdisplayed_only\u001b[0m\u001b[1;33m)\u001b[0m\u001b[1;33m\u001b[0m\u001b[1;33m\u001b[0m\u001b[0m\n\u001b[0;32m    896\u001b[0m \u001b[1;33m\u001b[0m\u001b[0m\n",
      "\u001b[1;32mc:\\users\\limwg\\appdata\\local\\programs\\python\\python39\\lib\\site-packages\\pandas\\io\\html.py\u001b[0m in \u001b[0;36m_parser_dispatch\u001b[1;34m(flavor)\u001b[0m\n\u001b[0;32m    849\u001b[0m     \u001b[1;32melse\u001b[0m\u001b[1;33m:\u001b[0m\u001b[1;33m\u001b[0m\u001b[1;33m\u001b[0m\u001b[0m\n\u001b[0;32m    850\u001b[0m         \u001b[1;32mif\u001b[0m \u001b[1;32mnot\u001b[0m \u001b[0m_HAS_LXML\u001b[0m\u001b[1;33m:\u001b[0m\u001b[1;33m\u001b[0m\u001b[1;33m\u001b[0m\u001b[0m\n\u001b[1;32m--> 851\u001b[1;33m             \u001b[1;32mraise\u001b[0m \u001b[0mImportError\u001b[0m\u001b[1;33m(\u001b[0m\u001b[1;34m\"lxml not found, please install it\"\u001b[0m\u001b[1;33m)\u001b[0m\u001b[1;33m\u001b[0m\u001b[1;33m\u001b[0m\u001b[0m\n\u001b[0m\u001b[0;32m    852\u001b[0m     \u001b[1;32mreturn\u001b[0m \u001b[0m_valid_parsers\u001b[0m\u001b[1;33m[\u001b[0m\u001b[0mflavor\u001b[0m\u001b[1;33m]\u001b[0m\u001b[1;33m\u001b[0m\u001b[1;33m\u001b[0m\u001b[0m\n\u001b[0;32m    853\u001b[0m \u001b[1;33m\u001b[0m\u001b[0m\n",
      "\u001b[1;31mImportError\u001b[0m: lxml not found, please install it"
     ]
    }
   ],
   "source": [
    "code = get_code('JS전선')\n",
    "code"
   ]
  },
  {
   "cell_type": "code",
   "execution_count": null,
   "metadata": {},
   "outputs": [],
   "source": []
  }
 ],
 "metadata": {
  "kernelspec": {
   "display_name": "Python 3",
   "language": "python",
   "name": "python3"
  },
  "language_info": {
   "codemirror_mode": {
    "name": "ipython",
    "version": 3
   },
   "file_extension": ".py",
   "mimetype": "text/x-python",
   "name": "python",
   "nbconvert_exporter": "python",
   "pygments_lexer": "ipython3",
   "version": "3.9.0"
  }
 },
 "nbformat": 4,
 "nbformat_minor": 4
}
