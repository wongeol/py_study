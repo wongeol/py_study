{
 "cells": [
  {
   "cell_type": "code",
   "execution_count": 2,
   "metadata": {},
   "outputs": [],
   "source": [
    "import cv2\n",
    "import numpy as np\n",
    "\n",
    "img1 = np.empty((200, 300), dtype=np.uint8)#그레이스케일 이미지\n",
    "img2 = np.zeros((200, 300, 3), dtype=np.uint8)#칼라 이미지\n",
    "img3 = np.ones((200, 300), dtype=np.uint8)*255 #그레이스케일 이미지. 흰바탕\n",
    "img4 = np.full((200, 300, 3), (0, 255, 255), dtype=np.uint8) #칼라 이미지의 노란바탕\n",
    "\n",
    "cv2.imshow('img1', img1)\n",
    "cv2.imshow('img2', img2)\n",
    "cv2.imshow('img3', img3)\n",
    "cv2.imshow('img4', img4)\n",
    "\n",
    "cv2.waitKey(0)   #키보드 입력 대기. 입력한 키값 반환\n",
    "cv2.destroyAllWindows()  #모든 윈도우 창 닫음"
   ]
  },
  {
   "cell_type": "code",
   "execution_count": 3,
   "metadata": {},
   "outputs": [],
   "source": [
    "import cv2\n",
    "\n",
    "fname = 'b.jpg'\n",
    "\n",
    "original = cv2.imread(fname, cv2.IMREAD_COLOR)\n",
    "gray = cv2.imread(fname, cv2.IMREAD_GRAYSCALE)\n",
    "unchange = cv2.imread(fname, cv2.IMREAD_UNCHANGED)\n",
    "\n",
    "cv2.imshow('Original', original)\n",
    "cv2.imshow('Gray', gray)\n",
    "cv2.imshow('Unchange', unchange)\n",
    "\n",
    "cv2.waitKey(0)   #키보드 입력 대기. 입력한 키값 반환\n",
    "cv2.destroyAllWindows()  #모든 윈도우 창 닫음"
   ]
  },
  {
   "cell_type": "code",
   "execution_count": null,
   "metadata": {},
   "outputs": [],
   "source": []
  }
 ],
 "metadata": {
  "kernelspec": {
   "display_name": "Python 3",
   "language": "python",
   "name": "python3"
  },
  "language_info": {
   "codemirror_mode": {
    "name": "ipython",
    "version": 3
   },
   "file_extension": ".py",
   "mimetype": "text/x-python",
   "name": "python",
   "nbconvert_exporter": "python",
   "pygments_lexer": "ipython3",
   "version": "3.9.0"
  }
 },
 "nbformat": 4,
 "nbformat_minor": 4
}
