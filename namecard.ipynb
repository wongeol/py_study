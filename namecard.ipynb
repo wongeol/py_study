{
 "cells": [
  {
   "cell_type": "code",
   "execution_count": 17,
   "metadata": {},
   "outputs": [],
   "source": [
    "import cv2\n",
    "import numpy as np\n",
    "\n",
    "\n",
    "nc = cv2.imread('namecard1.png', 0)\n",
    "nc_cp = nc.copy()\n",
    "\n",
    "#이미지 이진화\n",
    "nc_cp[nc_cp[:]<200]=0\n",
    "nc_cp[nc_cp[:]!=0]=255\n",
    "\n",
    "h, w = nc_cp.shape[:2]\n",
    "\n",
    "pts = []\n",
    "\n",
    "#엣지 추출\n",
    "for i in range(0, h):\n",
    "    for j in range(0, w-1):\n",
    "        if nc_cp[i][j]==0 and nc_cp[i][j+1]==255:\n",
    "            pts.append([j, i])\n",
    "            cv2.circle(nc_cp, (j, i), 2, 128, -1)\n",
    "            \n",
    "        if nc_cp[i][j]==255 and nc_cp[i][j+1]==0:\n",
    "            pts.append([j, i])\n",
    "            cv2.circle(nc_cp, (j, i), 2, 128, -1)\n",
    "            \n",
    "pts = np.array(pts)\n",
    "x = pts[:, 0]\n",
    "y = pts[:, 1]\n",
    "            \n",
    "y_min = y.min()\n",
    "x_min = x.min()\n",
    "x_max = x.max()\n",
    "            \n",
    "p1 = pts[pts[:, 1]==y_min]\n",
    "p2 = pts[pts[:, 0]==x_min]\n",
    "p3 = pts[pts[:, 0]==x_max]\n",
    "\n",
    "cv2.circle(nc, (p1[len(p1)-1][0], p1[len(p1)-1][1]), 5, 128, -1)\n",
    "cv2.circle(nc, (p2[len(p2)-1][0], p2[len(p2)-1][1]), 5, 128, -1)\n",
    "cv2.circle(nc, (p3[len(p3)-1][0], p3[len(p3)-1][1]), 5, 128, -1)\n",
    "\n",
    "cv2.imshow('nc', nc)\n",
    "cv2.imshow('nc_cp', nc_cp)\n",
    "cv2.cv2.waitKey(0)\n",
    "cv2.destroyAllWindows()"
   ]
  },
  {
   "cell_type": "code",
   "execution_count": 11,
   "metadata": {},
   "outputs": [
    {
     "data": {
      "text/plain": [
       "array([[ 47,  14],\n",
       "       [ 49,  14],\n",
       "       [ 53,  15],\n",
       "       ...,\n",
       "       [372, 340],\n",
       "       [376, 341],\n",
       "       [379, 341]])"
      ]
     },
     "execution_count": 11,
     "metadata": {},
     "output_type": "execute_result"
    }
   ],
   "source": [
    "pts"
   ]
  },
  {
   "cell_type": "code",
   "execution_count": null,
   "metadata": {},
   "outputs": [],
   "source": []
  }
 ],
 "metadata": {
  "kernelspec": {
   "display_name": "Python 3",
   "language": "python",
   "name": "python3"
  },
  "language_info": {
   "codemirror_mode": {
    "name": "ipython",
    "version": 3
   },
   "file_extension": ".py",
   "mimetype": "text/x-python",
   "name": "python",
   "nbconvert_exporter": "python",
   "pygments_lexer": "ipython3",
   "version": "3.9.0"
  }
 },
 "nbformat": 4,
 "nbformat_minor": 4
}
